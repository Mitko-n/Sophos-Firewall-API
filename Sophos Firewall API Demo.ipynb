{
 "cells": [
  {
   "cell_type": "code",
   "execution_count": 1,
   "metadata": {},
   "outputs": [],
   "source": [
    "from firewall_api import Firewall, EQ, NOT, LIKE\n",
    "import json\n",
    "\n",
    "# Firewall Credentials\n",
    "# JSON File\n",
    "# {\n",
    "#     \"firewall_ip\": \"<FIREWALL_IP_ADDRESS>\",\n",
    "#     \"username\": \"<USER_NAME>\",\n",
    "#     \"port\" : \"<FIREWALL_PORT>\"\n",
    "#     \"password\": \"<PASSWORD>\",\n",
    "#      \"certificate_verify\": <true|false>,\n",
    "#     \"password_encrypted\": <true|false>\n",
    "# }\n",
    "\n",
    "firewall_info = json.load(open(\"Credentials\\\\firewall_access.json\"))\n",
    "username = firewall_info[\"username\"]\n",
    "password = firewall_info[\"password\"]\n",
    "firewall_ip = firewall_info[\"firewall_ip\"]\n",
    "port = firewall_info[\"port\"]\n",
    "certificate_verify = firewall_info[\"certificate_verify\"]\n",
    "password_encrypted = firewall_info[\"password_encrypted\"]"
   ]
  },
  {
   "cell_type": "code",
   "execution_count": 2,
   "metadata": {},
   "outputs": [
    {
     "name": "stdout",
     "output_type": "stream",
     "text": [
      "CREATE ::  {'data': [], 'code': '200', 'text': 'Configuration applied successfully.'}\n",
      "CREATE ::  {'data': [], 'code': '200', 'text': 'Configuration applied successfully.'}\n",
      "CREATE ::  {'data': [], 'code': '200', 'text': 'Configuration applied successfully.'}\n",
      "CREATE ::  {'data': [], 'code': '200', 'text': 'Configuration applied successfully.'}\n",
      "\n",
      "READ :: \n",
      "Code: 216 Text: Operation Successful.\n",
      "001: {'Name': 'TEST 1', 'IPFamily': 'IPv4', 'HostType': 'IP', 'IPAddress': '172.16.17.100'}\n",
      "002: {'Name': 'TEST 2', 'IPFamily': 'IPv4', 'HostType': 'IP', 'IPAddress': '172.16.17.100'}\n",
      "003: {'Name': 'TEST 3', 'IPFamily': 'IPv4', 'HostType': 'IP', 'IPAddress': '172.16.17.100'}\n",
      "004: {'Name': 'TEST 4', 'IPFamily': 'IPv4', 'HostType': 'IP', 'IPAddress': '172.16.17.100'}\n",
      "\n",
      "UPDATE ::  {'data': [], 'code': '200', 'text': 'Configuration applied successfully.'}\n",
      "UPDATE ::  {'data': [], 'code': '200', 'text': 'Configuration applied successfully.'}\n",
      "UPDATE ::  {'data': [], 'code': '200', 'text': 'Configuration applied successfully.'}\n",
      "UPDATE ::  {'data': [], 'code': '200', 'text': 'Configuration applied successfully.'}\n",
      "\n",
      "READ :: \n",
      "Code: 216 Text: Operation Successful.\n",
      "001: {'Name': 'TEST 1', 'IPFamily': 'IPv4', 'HostType': 'IP', 'IPAddress': '172.16.17.101'}\n",
      "002: {'Name': 'TEST 2', 'IPFamily': 'IPv4', 'HostType': 'IP', 'IPAddress': '172.16.17.102'}\n",
      "003: {'Name': 'TEST 3', 'IPFamily': 'IPv4', 'HostType': 'IP', 'IPAddress': '172.16.17.103'}\n",
      "004: {'Name': 'TEST 4', 'IPFamily': 'IPv4', 'HostType': 'IP', 'IPAddress': '172.16.17.104'}\n",
      "\n",
      "DELETE :: \n",
      "DELETE :: TEST 1 -> Code: 200 Text: Configuration applied successfully.\n",
      "DELETE :: TEST 2 -> Code: 200 Text: Configuration applied successfully.\n",
      "\n",
      "READ :: \n",
      "Code: 216 Text: Operation Successful.\n",
      "001: {'Name': 'TEST 3', 'IPFamily': 'IPv4', 'HostType': 'IP', 'IPAddress': '172.16.17.103'}\n",
      "002: {'Name': 'TEST 4', 'IPFamily': 'IPv4', 'HostType': 'IP', 'IPAddress': '172.16.17.104'}\n",
      "\n",
      "DELETE :: \n",
      "Code: 200 Text: Configuration applied successfully.\n",
      "\n",
      "READ :: \n",
      "Code: 526 Text: Record does not exist.\n",
      "\n",
      "READ :: FirewallRule\n",
      "Code: 216 Text: Operation Successful.\n",
      "001: {'Name': 'Site-to-Site', 'Description': None, 'IPFamily': 'IPv4', 'Status': 'Enable', 'Position': 'Top', 'PolicyType': 'Network', 'NetworkPolicy': {'Action': 'Accept', 'LogTraffic': 'Enable', 'SkipLocalDestined': 'Disable', 'SourceZones': {'Zone': ['VPN', 'LAN']}, 'DestinationZones': {'Zone': ['VPN', 'LAN']}, 'Schedule': 'All The Time', 'DSCPMarking': '-1', 'WebFilter': 'None', 'WebCategoryBaseQoSPolicy': None, 'BlockQuickQuic': 'Disable', 'ScanVirus': 'Disable', 'ZeroDayProtection': 'Disable', 'ProxyMode': 'Disable', 'DecryptHTTPS': 'Disable', 'ApplicationControl': 'None', 'ApplicationBaseQoSPolicy': None, 'IntrusionPrevention': 'None', 'TrafficShappingPolicy': 'None', 'ScanSMTP': 'Disable', 'ScanSMTPS': 'Disable', 'ScanIMAP': 'Disable', 'ScanIMAPS': 'Disable', 'ScanPOP3': 'Disable', 'ScanPOP3S': 'Disable', 'ScanFTP': 'Disable', 'SourceSecurityHeartbeat': 'Disable', 'MinimumSourceHBPermitted': 'No Restriction', 'DestSecurityHeartbeat': 'Disable', 'MinimumDestinationHBPermitted': 'No Restriction'}}\n",
      "002: {'Name': 'IPsec TO_AZURE', 'Description': 'Auto created Firewall Rule', 'IPFamily': 'IPv4', 'Status': 'Enable', 'Position': 'After', 'PolicyType': 'Network', 'After': {'Name': 'Site-to-Site'}, 'NetworkPolicy': {'Action': 'Accept', 'LogTraffic': 'Disable', 'SkipLocalDestined': 'Disable', 'Schedule': 'All The Time', 'SourceNetworks': {'Network': ['192.168.30.0/24', '192.168.10.0/24']}, 'DestinationNetworks': {'Network': ['192.168.30.0/24', '192.168.10.0/24']}, 'DSCPMarking': '-1', 'WebFilter': 'None', 'WebCategoryBaseQoSPolicy': None, 'BlockQuickQuic': 'Disable', 'ScanVirus': 'Disable', 'ZeroDayProtection': 'Disable', 'ProxyMode': 'Disable', 'DecryptHTTPS': 'Disable', 'ApplicationControl': 'None', 'ApplicationBaseQoSPolicy': None, 'IntrusionPrevention': 'None', 'TrafficShappingPolicy': 'None', 'ScanSMTP': 'Disable', 'ScanSMTPS': 'Disable', 'ScanIMAP': 'Disable', 'ScanIMAPS': 'Disable', 'ScanPOP3': 'Disable', 'ScanPOP3S': 'Disable', 'ScanFTP': 'Disable', 'SourceSecurityHeartbeat': 'Disable', 'MinimumSourceHBPermitted': 'No Restriction', 'DestSecurityHeartbeat': 'Disable', 'MinimumDestinationHBPermitted': 'No Restriction'}}\n",
      "003: {'Name': 'IPsec Sophos_To_FortiGate', 'Description': 'Auto created Firewall Rule', 'IPFamily': 'IPv4', 'Status': 'Enable', 'Position': 'After', 'PolicyType': 'Network', 'After': {'Name': 'IPsec TO_AZURE'}, 'NetworkPolicy': {'Action': 'Accept', 'LogTraffic': 'Disable', 'SkipLocalDestined': 'Disable', 'Schedule': 'All The Time', 'SourceNetworks': {'Network': ['192.168.30.0/24', '192.168.10.0/24']}, 'DestinationNetworks': {'Network': ['192.168.30.0/24', '192.168.10.0/24']}, 'DSCPMarking': '-1', 'WebFilter': 'None', 'WebCategoryBaseQoSPolicy': None, 'BlockQuickQuic': 'Disable', 'ScanVirus': 'Disable', 'ZeroDayProtection': 'Disable', 'ProxyMode': 'Disable', 'DecryptHTTPS': 'Disable', 'ApplicationControl': 'None', 'ApplicationBaseQoSPolicy': None, 'IntrusionPrevention': 'None', 'TrafficShappingPolicy': 'None', 'ScanSMTP': 'Disable', 'ScanSMTPS': 'Disable', 'ScanIMAP': 'Disable', 'ScanIMAPS': 'Disable', 'ScanPOP3': 'Disable', 'ScanPOP3S': 'Disable', 'ScanFTP': 'Disable', 'SourceSecurityHeartbeat': 'Disable', 'MinimumSourceHBPermitted': 'No Restriction', 'DestSecurityHeartbeat': 'Disable', 'MinimumDestinationHBPermitted': 'No Restriction'}}\n",
      "004: {'Name': 'Web Protection', 'Description': None, 'IPFamily': 'IPv4', 'Status': 'Enable', 'Position': 'After', 'PolicyType': 'HTTPBased', 'After': {'Name': 'IPsec Sophos_To_FortiGate'}, 'HTTPBasedPolicy': {'HostedAddress': '#Port2:2', 'HTTPS': 'Disable', 'ListenPort': '80', 'Domains': {'Domain': '172.16.17.33'}, 'AccessPaths': {'AccessPath': {'allowed_networks': 'Any IPv4', 'auth_profile': 'Basic with passthrough', 'backend': 'Web Server', 'be_path': None, 'block_unknown_country': '0', 'hot_standby': '0', 'path': '/', 'stickysession_status': '0', 'websocket_passthrough': '0'}}, 'Exceptions': None, 'ProtocolSecurity': 'Web Protection General', 'CompressionSupport': 'Disable', 'RewriteHTML': '0', 'PassHostHeader': 'Disable', 'RewriteCookies': 'Enable', 'IntrusionPrevention': 'None', 'TrafficShapingPolicy': 'None', 'Certificate': None, 'RedirectHTTP': 'Disable', 'InterfaceUnavailable': '0', 'BackendsUnavailable': '0'}}\n",
      "005: {'Name': 'Services', 'Description': None, 'IPFamily': 'IPv4', 'Status': 'Enable', 'Position': 'After', 'PolicyType': 'Network', 'After': {'Name': 'Web Protection'}, 'NetworkPolicy': {'Action': 'Accept', 'LogTraffic': 'Enable', 'SkipLocalDestined': 'Disable', 'SourceZones': {'Zone': 'LAN'}, 'DestinationZones': {'Zone': 'WAN'}, 'Schedule': 'All The Time', 'Services': {'Service': 'DNS'}, 'DSCPMarking': '-1', 'WebFilter': 'None', 'WebCategoryBaseQoSPolicy': None, 'BlockQuickQuic': 'Disable', 'ScanVirus': 'Disable', 'ZeroDayProtection': 'Disable', 'ProxyMode': 'Disable', 'DecryptHTTPS': 'Disable', 'ApplicationControl': 'None', 'ApplicationBaseQoSPolicy': None, 'IntrusionPrevention': 'None', 'TrafficShappingPolicy': 'None', 'ScanSMTP': 'Disable', 'ScanSMTPS': 'Disable', 'ScanIMAP': 'Disable', 'ScanIMAPS': 'Disable', 'ScanPOP3': 'Disable', 'ScanPOP3S': 'Disable', 'ScanFTP': 'Disable', 'SourceSecurityHeartbeat': 'Disable', 'MinimumSourceHBPermitted': 'No Restriction', 'DestSecurityHeartbeat': 'Disable', 'MinimumDestinationHBPermitted': 'No Restriction'}}\n",
      "006: {'Name': 'DNAT to wrk.lab.local', 'Description': None, 'IPFamily': 'IPv4', 'Status': 'Enable', 'Position': 'After', 'PolicyType': 'Network', 'After': {'Name': 'Services'}, 'NetworkPolicy': {'Action': 'Accept', 'LogTraffic': 'Enable', 'SkipLocalDestined': 'Disable', 'SourceZones': {'Zone': 'WAN'}, 'DestinationZones': {'Zone': 'LAN'}, 'Schedule': 'All The Time', 'Services': {'Service': 'RDP'}, 'DestinationNetworks': {'Network': '#Port2:1'}, 'DSCPMarking': '-1', 'WebFilter': 'None', 'WebCategoryBaseQoSPolicy': None, 'BlockQuickQuic': 'Disable', 'ScanVirus': 'Disable', 'ZeroDayProtection': 'Disable', 'ProxyMode': 'Disable', 'DecryptHTTPS': 'Disable', 'ApplicationControl': 'None', 'ApplicationBaseQoSPolicy': None, 'IntrusionPrevention': 'None', 'TrafficShappingPolicy': 'None', 'ScanSMTP': 'Disable', 'ScanSMTPS': 'Disable', 'ScanIMAP': 'Disable', 'ScanIMAPS': 'Disable', 'ScanPOP3': 'Disable', 'ScanPOP3S': 'Disable', 'ScanFTP': 'Disable', 'SourceSecurityHeartbeat': 'Disable', 'MinimumSourceHBPermitted': 'No Restriction', 'DestSecurityHeartbeat': 'Disable', 'MinimumDestinationHBPermitted': 'No Restriction'}}\n",
      "007: {'Name': 'DNAT to srv.lab.local', 'Description': None, 'IPFamily': 'IPv4', 'Status': 'Enable', 'Position': 'After', 'PolicyType': 'Network', 'After': {'Name': 'DNAT to wrk.lab.local'}, 'NetworkPolicy': {'Action': 'Accept', 'LogTraffic': 'Enable', 'SkipLocalDestined': 'Disable', 'SourceZones': {'Zone': 'WAN'}, 'DestinationZones': {'Zone': 'LAN'}, 'Schedule': 'All The Time', 'Services': {'Service': 'RDP'}, 'DestinationNetworks': {'Network': '#Port2:0'}, 'DSCPMarking': '-1', 'WebFilter': 'None', 'WebCategoryBaseQoSPolicy': None, 'BlockQuickQuic': 'Disable', 'ScanVirus': 'Disable', 'ZeroDayProtection': 'Disable', 'ProxyMode': 'Disable', 'DecryptHTTPS': 'Disable', 'ApplicationControl': 'None', 'ApplicationBaseQoSPolicy': None, 'IntrusionPrevention': 'None', 'TrafficShappingPolicy': 'None', 'ScanSMTP': 'Disable', 'ScanSMTPS': 'Disable', 'ScanIMAP': 'Disable', 'ScanIMAPS': 'Disable', 'ScanPOP3': 'Disable', 'ScanPOP3S': 'Disable', 'ScanFTP': 'Disable', 'SourceSecurityHeartbeat': 'Disable', 'MinimumSourceHBPermitted': 'No Restriction', 'DestSecurityHeartbeat': 'Disable', 'MinimumDestinationHBPermitted': 'No Restriction'}}\n",
      "008: {'Name': 'Traffic to Internal Zones', 'Description': 'A disabled Firewall rule with the destination zone as LAN, WiFi, VPN or DMZ . Such rules would be added to Traffic to Internal Zones group on the first match basis if user selects automatic grouping option.', 'IPFamily': 'IPv4', 'Status': 'Enable', 'Position': 'After', 'PolicyType': 'User', 'After': {'Name': 'DNAT to srv.lab.local'}, 'UserPolicy': {'Action': 'Drop', 'LogTraffic': 'Enable', 'DestinationZones': {'Zone': ['DMZ', 'VPN', 'WiFi', 'LAN']}, 'Schedule': 'All The Time', 'SkipLocalDestined': 'Disable', 'MatchIdentity': 'Enable', 'DataAccounting': 'Disable', 'ShowCaptivePortal': 'Enable'}}\n",
      "009: {'Name': 'Default WAN Access', 'Description': None, 'IPFamily': 'IPv4', 'Status': 'Enable', 'Position': 'After', 'PolicyType': 'Network', 'After': {'Name': 'Traffic to Internal Zones'}, 'NetworkPolicy': {'Action': 'Accept', 'LogTraffic': 'Enable', 'SkipLocalDestined': 'Disable', 'SourceZones': {'Zone': 'LAN'}, 'DestinationZones': {'Zone': 'WAN'}, 'Schedule': 'All The Time', 'DSCPMarking': '-1', 'WebFilter': 'No Explicit Content', 'WebCategoryBaseQoSPolicy': None, 'BlockQuickQuic': 'Enable', 'ScanVirus': 'Enable', 'ZeroDayProtection': 'Enable', 'ProxyMode': 'Disable', 'DecryptHTTPS': 'Disable', 'ApplicationControl': 'Allow All', 'ApplicationBaseQoSPolicy': None, 'IntrusionPrevention': 'LAN TO WAN', 'TrafficShappingPolicy': 'None', 'ScanSMTP': 'Disable', 'ScanSMTPS': 'Disable', 'ScanIMAP': 'Disable', 'ScanIMAPS': 'Disable', 'ScanPOP3': 'Disable', 'ScanPOP3S': 'Disable', 'ScanFTP': 'Enable', 'SourceSecurityHeartbeat': 'Disable', 'MinimumSourceHBPermitted': 'No Restriction', 'DestSecurityHeartbeat': 'Disable', 'MinimumDestinationHBPermitted': 'No Restriction'}}\n",
      "010: {'Name': 'IPsec Policy_LAB', 'Description': 'AFTER RULE Auto created Firewall Rule', 'IPFamily': 'IPv4', 'Status': 'Enable', 'Position': 'After', 'PolicyType': 'Network', 'After': {'Name': 'Default WAN Access'}, 'NetworkPolicy': {'Action': 'Accept', 'LogTraffic': 'Enable', 'SkipLocalDestined': 'Disable', 'Schedule': 'All The Time', 'SourceNetworks': {'Network': ['192.168.30.0/24', '192.168.10.0/24']}, 'DestinationNetworks': {'Network': ['192.168.30.0/24', '192.168.10.0/24']}, 'DSCPMarking': '-1', 'WebFilter': 'None', 'WebCategoryBaseQoSPolicy': None, 'BlockQuickQuic': 'Disable', 'ScanVirus': 'Disable', 'ZeroDayProtection': 'Disable', 'ProxyMode': 'Disable', 'DecryptHTTPS': 'Disable', 'ApplicationControl': 'None', 'ApplicationBaseQoSPolicy': None, 'IntrusionPrevention': 'None', 'TrafficShappingPolicy': 'None', 'ScanSMTP': 'Disable', 'ScanSMTPS': 'Disable', 'ScanIMAP': 'Disable', 'ScanIMAPS': 'Disable', 'ScanPOP3': 'Disable', 'ScanPOP3S': 'Disable', 'ScanFTP': 'Disable', 'SourceSecurityHeartbeat': 'Disable', 'MinimumSourceHBPermitted': 'No Restriction', 'DestSecurityHeartbeat': 'Disable', 'MinimumDestinationHBPermitted': 'No Restriction'}}\n"
     ]
    }
   ],
   "source": [
    "# Demo create, read, update, delete\n",
    "#\n",
    "firewall = Firewall(username, password, firewall_ip, port, certificate_verify=certificate_verify, password_encrypted=password_encrypted)\n",
    "\n",
    "print(\"CREATE :: \", firewall.create(\"IPHost\", {\"Name\": \"TEST 1\", \"IPFamily\": \"IPv4\", \"HostType\": \"IP\", \"IPAddress\": \"172.16.17.100\"}))\n",
    "print(\"CREATE :: \", firewall.create(\"IPHost\", {\"Name\": \"TEST 2\", \"IPFamily\": \"IPv4\", \"HostType\": \"IP\", \"IPAddress\": \"172.16.17.100\"}))\n",
    "print(\"CREATE :: \", firewall.create(\"IPHost\", {\"Name\": \"TEST 3\", \"IPFamily\": \"IPv4\", \"HostType\": \"IP\", \"IPAddress\": \"172.16.17.100\"}))\n",
    "print(\"CREATE :: \", firewall.create(\"IPHost\", {\"Name\": \"TEST 4\", \"IPFamily\": \"IPv4\", \"HostType\": \"IP\", \"IPAddress\": \"172.16.17.100\"}))\n",
    "\n",
    "print(\"\\nREAD :: \")\n",
    "response = firewall.read(\"IPHost\", \"TEST\", LIKE)\n",
    "print(\"Code:\", response[\"code\"], \"Text:\", response[\"text\"])\n",
    "for index, item in enumerate(response[\"data\"], start=1):\n",
    "    print(f\"{index:03}: {item}\")\n",
    "\n",
    "print(\"\\nUPDATE :: \", firewall.update(\"IPHost\", {\"Name\": \"TEST 1\", \"IPFamily\": \"IPv4\", \"HostType\": \"IP\", \"IPAddress\": \"172.16.17.101\"}))\n",
    "print(\"UPDATE :: \", firewall.update(\"IPHost\", {\"Name\": \"TEST 2\", \"IPFamily\": \"IPv4\", \"HostType\": \"IP\", \"IPAddress\": \"172.16.17.102\"}))\n",
    "print(\"UPDATE :: \", firewall.update(\"IPHost\", {\"Name\": \"TEST 3\", \"IPFamily\": \"IPv4\", \"HostType\": \"IP\", \"IPAddress\": \"172.16.17.103\"}))\n",
    "print(\"UPDATE :: \", firewall.update(\"IPHost\", {\"Name\": \"TEST 4\", \"IPFamily\": \"IPv4\", \"HostType\": \"IP\", \"IPAddress\": \"172.16.17.104\"}))\n",
    "\n",
    "print(\"\\nREAD :: \")\n",
    "response = firewall.read(\"IPHost\", \"TEST\", LIKE)\n",
    "print(\"Code:\", response[\"code\"], \"Text:\", response[\"text\"])\n",
    "for index, item in enumerate(response[\"data\"], start=1):\n",
    "    print(f\"{index:03}: {item}\")\n",
    "\n",
    "print(\"\\nDELETE :: \", )\n",
    "response = firewall.delete(\"IPHost\", \"TEST 1\")\n",
    "print(\"DELETE :: TEST 1 ->\",\"Code:\", response[\"code\"], \"Text:\", response[\"text\"])\n",
    "response = firewall.delete(\"IPHost\", \"TEST 2\")\n",
    "print(\"DELETE :: TEST 2 ->\",\"Code:\", response[\"code\"], \"Text:\", response[\"text\"])\n",
    "\n",
    "print(\"\\nREAD :: \")\n",
    "response = firewall.read(\"IPHost\", \"TEST\", LIKE)\n",
    "print(\"Code:\", response[\"code\"], \"Text:\", response[\"text\"])\n",
    "for index, item in enumerate(response[\"data\"], start=1):\n",
    "    print(f\"{index:03}: {item}\")\n",
    "\n",
    "print(\"\\nDELETE :: \")\n",
    "response = firewall.delete(\"IPHost\", \"TEST\", LIKE)\n",
    "print(\"Code:\", response[\"code\"], \"Text:\", response[\"text\"])\n",
    "\n",
    "print(\"\\nREAD :: \")\n",
    "response = firewall.read(\"IPHost\", \"TEST\", LIKE)\n",
    "print(\"Code:\", response[\"code\"], \"Text:\", response[\"text\"])\n",
    "for index, item in enumerate(response[\"data\"], start=1):\n",
    "    print(f\"{index:03}: {item}\")\n",
    "\n",
    "\n",
    "print(\"\\nREAD :: FirewallRule\")\n",
    "response = firewall.read(\"FirewallRule\")\n",
    "print(\"Code:\", response[\"code\"], \"Text:\", response[\"text\"])\n",
    "for index, item in enumerate(response[\"data\"], start=1):\n",
    "    print(f\"{index:03}: {item}\")"
   ]
  },
  {
   "cell_type": "code",
   "execution_count": 3,
   "metadata": {},
   "outputs": [
    {
     "name": "stdout",
     "output_type": "stream",
     "text": [
      "CREATE ::  {'data': [], 'code': '200', 'text': 'Configuration applied successfully.'}\n",
      "CREATE ::  {'data': [], 'code': '200', 'text': 'Configuration applied successfully.'}\n",
      "CREATE ::  {'data': [], 'code': '200', 'text': 'Configuration applied successfully.'}\n",
      "CREATE ::  {'data': [], 'code': '200', 'text': 'Configuration applied successfully.'}\n",
      "\n",
      "READ :: \n",
      "Code: 216 Text: Operation Successful.\n",
      "001: {'Name': 'TEST 1', 'IPFamily': 'IPv4', 'HostType': 'IP', 'IPAddress': '172.16.17.100'}\n",
      "002: {'Name': 'TEST 2', 'IPFamily': 'IPv4', 'HostType': 'IP', 'IPAddress': '172.16.17.100'}\n",
      "003: {'Name': 'TEST 3', 'IPFamily': 'IPv4', 'HostType': 'IP', 'IPAddress': '172.16.17.100'}\n",
      "004: {'Name': 'TEST 4', 'IPFamily': 'IPv4', 'HostType': 'IP', 'IPAddress': '172.16.17.100'}\n",
      "\n",
      "UPDATE ::  {'data': [], 'code': '200', 'text': 'Configuration applied successfully.'}\n",
      "UPDATE ::  {'data': [], 'code': '200', 'text': 'Configuration applied successfully.'}\n",
      "UPDATE ::  {'data': [], 'code': '200', 'text': 'Configuration applied successfully.'}\n",
      "UPDATE ::  {'data': [], 'code': '200', 'text': 'Configuration applied successfully.'}\n",
      "\n",
      "READ :: \n",
      "Code: 216 Text: Operation Successful.\n",
      "001: {'Name': 'TEST 1', 'IPFamily': 'IPv4', 'HostType': 'IP', 'IPAddress': '172.16.17.101'}\n",
      "002: {'Name': 'TEST 2', 'IPFamily': 'IPv4', 'HostType': 'IP', 'IPAddress': '172.16.17.102'}\n",
      "003: {'Name': 'TEST 3', 'IPFamily': 'IPv4', 'HostType': 'IP', 'IPAddress': '172.16.17.103'}\n",
      "004: {'Name': 'TEST 4', 'IPFamily': 'IPv4', 'HostType': 'IP', 'IPAddress': '172.16.17.104'}\n",
      "\n",
      "DELETE :: \n",
      "DELETE :: TEST 1 -> Code: 200 Text: Configuration applied successfully.\n",
      "DELETE :: TEST 2 -> Code: 200 Text: Configuration applied successfully.\n",
      "\n",
      "READ :: \n",
      "Code: 216 Text: Operation Successful.\n",
      "001: {'Name': 'TEST 3', 'IPFamily': 'IPv4', 'HostType': 'IP', 'IPAddress': '172.16.17.103'}\n",
      "002: {'Name': 'TEST 4', 'IPFamily': 'IPv4', 'HostType': 'IP', 'IPAddress': '172.16.17.104'}\n",
      "\n",
      "DELETE :: \n",
      "Code: 200 Text: Configuration applied successfully.\n",
      "\n",
      "READ :: \n",
      "Code: 526 Text: Record does not exist.\n",
      "\n",
      "READ :: FirewallRule\n",
      "Code: 216 Text: Operation Successful.\n",
      "001: {'Name': 'Site-to-Site', 'Description': None, 'IPFamily': 'IPv4', 'Status': 'Enable', 'Position': 'Top', 'PolicyType': 'Network', 'NetworkPolicy': {'Action': 'Accept', 'LogTraffic': 'Enable', 'SkipLocalDestined': 'Disable', 'SourceZones': {'Zone': ['VPN', 'LAN']}, 'DestinationZones': {'Zone': ['VPN', 'LAN']}, 'Schedule': 'All The Time', 'DSCPMarking': '-1', 'WebFilter': 'None', 'WebCategoryBaseQoSPolicy': None, 'BlockQuickQuic': 'Disable', 'ScanVirus': 'Disable', 'ZeroDayProtection': 'Disable', 'ProxyMode': 'Disable', 'DecryptHTTPS': 'Disable', 'ApplicationControl': 'None', 'ApplicationBaseQoSPolicy': None, 'IntrusionPrevention': 'None', 'TrafficShappingPolicy': 'None', 'ScanSMTP': 'Disable', 'ScanSMTPS': 'Disable', 'ScanIMAP': 'Disable', 'ScanIMAPS': 'Disable', 'ScanPOP3': 'Disable', 'ScanPOP3S': 'Disable', 'ScanFTP': 'Disable', 'SourceSecurityHeartbeat': 'Disable', 'MinimumSourceHBPermitted': 'No Restriction', 'DestSecurityHeartbeat': 'Disable', 'MinimumDestinationHBPermitted': 'No Restriction'}}\n",
      "002: {'Name': 'IPsec TO_AZURE', 'Description': 'Auto created Firewall Rule', 'IPFamily': 'IPv4', 'Status': 'Enable', 'Position': 'After', 'PolicyType': 'Network', 'After': {'Name': 'Site-to-Site'}, 'NetworkPolicy': {'Action': 'Accept', 'LogTraffic': 'Disable', 'SkipLocalDestined': 'Disable', 'Schedule': 'All The Time', 'SourceNetworks': {'Network': ['192.168.30.0/24', '192.168.10.0/24']}, 'DestinationNetworks': {'Network': ['192.168.30.0/24', '192.168.10.0/24']}, 'DSCPMarking': '-1', 'WebFilter': 'None', 'WebCategoryBaseQoSPolicy': None, 'BlockQuickQuic': 'Disable', 'ScanVirus': 'Disable', 'ZeroDayProtection': 'Disable', 'ProxyMode': 'Disable', 'DecryptHTTPS': 'Disable', 'ApplicationControl': 'None', 'ApplicationBaseQoSPolicy': None, 'IntrusionPrevention': 'None', 'TrafficShappingPolicy': 'None', 'ScanSMTP': 'Disable', 'ScanSMTPS': 'Disable', 'ScanIMAP': 'Disable', 'ScanIMAPS': 'Disable', 'ScanPOP3': 'Disable', 'ScanPOP3S': 'Disable', 'ScanFTP': 'Disable', 'SourceSecurityHeartbeat': 'Disable', 'MinimumSourceHBPermitted': 'No Restriction', 'DestSecurityHeartbeat': 'Disable', 'MinimumDestinationHBPermitted': 'No Restriction'}}\n",
      "003: {'Name': 'IPsec Sophos_To_FortiGate', 'Description': 'Auto created Firewall Rule', 'IPFamily': 'IPv4', 'Status': 'Enable', 'Position': 'After', 'PolicyType': 'Network', 'After': {'Name': 'IPsec TO_AZURE'}, 'NetworkPolicy': {'Action': 'Accept', 'LogTraffic': 'Disable', 'SkipLocalDestined': 'Disable', 'Schedule': 'All The Time', 'SourceNetworks': {'Network': ['192.168.30.0/24', '192.168.10.0/24']}, 'DestinationNetworks': {'Network': ['192.168.30.0/24', '192.168.10.0/24']}, 'DSCPMarking': '-1', 'WebFilter': 'None', 'WebCategoryBaseQoSPolicy': None, 'BlockQuickQuic': 'Disable', 'ScanVirus': 'Disable', 'ZeroDayProtection': 'Disable', 'ProxyMode': 'Disable', 'DecryptHTTPS': 'Disable', 'ApplicationControl': 'None', 'ApplicationBaseQoSPolicy': None, 'IntrusionPrevention': 'None', 'TrafficShappingPolicy': 'None', 'ScanSMTP': 'Disable', 'ScanSMTPS': 'Disable', 'ScanIMAP': 'Disable', 'ScanIMAPS': 'Disable', 'ScanPOP3': 'Disable', 'ScanPOP3S': 'Disable', 'ScanFTP': 'Disable', 'SourceSecurityHeartbeat': 'Disable', 'MinimumSourceHBPermitted': 'No Restriction', 'DestSecurityHeartbeat': 'Disable', 'MinimumDestinationHBPermitted': 'No Restriction'}}\n",
      "004: {'Name': 'Web Protection', 'Description': None, 'IPFamily': 'IPv4', 'Status': 'Enable', 'Position': 'After', 'PolicyType': 'HTTPBased', 'After': {'Name': 'IPsec Sophos_To_FortiGate'}, 'HTTPBasedPolicy': {'HostedAddress': '#Port2:2', 'HTTPS': 'Disable', 'ListenPort': '80', 'Domains': {'Domain': '172.16.17.33'}, 'AccessPaths': {'AccessPath': {'allowed_networks': 'Any IPv4', 'auth_profile': 'Basic with passthrough', 'backend': 'Web Server', 'be_path': None, 'block_unknown_country': '0', 'hot_standby': '0', 'path': '/', 'stickysession_status': '0', 'websocket_passthrough': '0'}}, 'Exceptions': None, 'ProtocolSecurity': 'Web Protection General', 'CompressionSupport': 'Disable', 'RewriteHTML': '0', 'PassHostHeader': 'Disable', 'RewriteCookies': 'Enable', 'IntrusionPrevention': 'None', 'TrafficShapingPolicy': 'None', 'Certificate': None, 'RedirectHTTP': 'Disable', 'InterfaceUnavailable': '0', 'BackendsUnavailable': '0'}}\n",
      "005: {'Name': 'Services', 'Description': None, 'IPFamily': 'IPv4', 'Status': 'Enable', 'Position': 'After', 'PolicyType': 'Network', 'After': {'Name': 'Web Protection'}, 'NetworkPolicy': {'Action': 'Accept', 'LogTraffic': 'Enable', 'SkipLocalDestined': 'Disable', 'SourceZones': {'Zone': 'LAN'}, 'DestinationZones': {'Zone': 'WAN'}, 'Schedule': 'All The Time', 'Services': {'Service': 'DNS'}, 'DSCPMarking': '-1', 'WebFilter': 'None', 'WebCategoryBaseQoSPolicy': None, 'BlockQuickQuic': 'Disable', 'ScanVirus': 'Disable', 'ZeroDayProtection': 'Disable', 'ProxyMode': 'Disable', 'DecryptHTTPS': 'Disable', 'ApplicationControl': 'None', 'ApplicationBaseQoSPolicy': None, 'IntrusionPrevention': 'None', 'TrafficShappingPolicy': 'None', 'ScanSMTP': 'Disable', 'ScanSMTPS': 'Disable', 'ScanIMAP': 'Disable', 'ScanIMAPS': 'Disable', 'ScanPOP3': 'Disable', 'ScanPOP3S': 'Disable', 'ScanFTP': 'Disable', 'SourceSecurityHeartbeat': 'Disable', 'MinimumSourceHBPermitted': 'No Restriction', 'DestSecurityHeartbeat': 'Disable', 'MinimumDestinationHBPermitted': 'No Restriction'}}\n",
      "006: {'Name': 'DNAT to wrk.lab.local', 'Description': None, 'IPFamily': 'IPv4', 'Status': 'Enable', 'Position': 'After', 'PolicyType': 'Network', 'After': {'Name': 'Services'}, 'NetworkPolicy': {'Action': 'Accept', 'LogTraffic': 'Enable', 'SkipLocalDestined': 'Disable', 'SourceZones': {'Zone': 'WAN'}, 'DestinationZones': {'Zone': 'LAN'}, 'Schedule': 'All The Time', 'Services': {'Service': 'RDP'}, 'DestinationNetworks': {'Network': '#Port2:1'}, 'DSCPMarking': '-1', 'WebFilter': 'None', 'WebCategoryBaseQoSPolicy': None, 'BlockQuickQuic': 'Disable', 'ScanVirus': 'Disable', 'ZeroDayProtection': 'Disable', 'ProxyMode': 'Disable', 'DecryptHTTPS': 'Disable', 'ApplicationControl': 'None', 'ApplicationBaseQoSPolicy': None, 'IntrusionPrevention': 'None', 'TrafficShappingPolicy': 'None', 'ScanSMTP': 'Disable', 'ScanSMTPS': 'Disable', 'ScanIMAP': 'Disable', 'ScanIMAPS': 'Disable', 'ScanPOP3': 'Disable', 'ScanPOP3S': 'Disable', 'ScanFTP': 'Disable', 'SourceSecurityHeartbeat': 'Disable', 'MinimumSourceHBPermitted': 'No Restriction', 'DestSecurityHeartbeat': 'Disable', 'MinimumDestinationHBPermitted': 'No Restriction'}}\n",
      "007: {'Name': 'DNAT to srv.lab.local', 'Description': None, 'IPFamily': 'IPv4', 'Status': 'Enable', 'Position': 'After', 'PolicyType': 'Network', 'After': {'Name': 'DNAT to wrk.lab.local'}, 'NetworkPolicy': {'Action': 'Accept', 'LogTraffic': 'Enable', 'SkipLocalDestined': 'Disable', 'SourceZones': {'Zone': 'WAN'}, 'DestinationZones': {'Zone': 'LAN'}, 'Schedule': 'All The Time', 'Services': {'Service': 'RDP'}, 'DestinationNetworks': {'Network': '#Port2:0'}, 'DSCPMarking': '-1', 'WebFilter': 'None', 'WebCategoryBaseQoSPolicy': None, 'BlockQuickQuic': 'Disable', 'ScanVirus': 'Disable', 'ZeroDayProtection': 'Disable', 'ProxyMode': 'Disable', 'DecryptHTTPS': 'Disable', 'ApplicationControl': 'None', 'ApplicationBaseQoSPolicy': None, 'IntrusionPrevention': 'None', 'TrafficShappingPolicy': 'None', 'ScanSMTP': 'Disable', 'ScanSMTPS': 'Disable', 'ScanIMAP': 'Disable', 'ScanIMAPS': 'Disable', 'ScanPOP3': 'Disable', 'ScanPOP3S': 'Disable', 'ScanFTP': 'Disable', 'SourceSecurityHeartbeat': 'Disable', 'MinimumSourceHBPermitted': 'No Restriction', 'DestSecurityHeartbeat': 'Disable', 'MinimumDestinationHBPermitted': 'No Restriction'}}\n",
      "008: {'Name': 'Traffic to Internal Zones', 'Description': 'A disabled Firewall rule with the destination zone as LAN, WiFi, VPN or DMZ . Such rules would be added to Traffic to Internal Zones group on the first match basis if user selects automatic grouping option.', 'IPFamily': 'IPv4', 'Status': 'Enable', 'Position': 'After', 'PolicyType': 'User', 'After': {'Name': 'DNAT to srv.lab.local'}, 'UserPolicy': {'Action': 'Drop', 'LogTraffic': 'Enable', 'DestinationZones': {'Zone': ['DMZ', 'VPN', 'WiFi', 'LAN']}, 'Schedule': 'All The Time', 'SkipLocalDestined': 'Disable', 'MatchIdentity': 'Enable', 'DataAccounting': 'Disable', 'ShowCaptivePortal': 'Enable'}}\n",
      "009: {'Name': 'Default WAN Access', 'Description': None, 'IPFamily': 'IPv4', 'Status': 'Enable', 'Position': 'After', 'PolicyType': 'Network', 'After': {'Name': 'Traffic to Internal Zones'}, 'NetworkPolicy': {'Action': 'Accept', 'LogTraffic': 'Enable', 'SkipLocalDestined': 'Disable', 'SourceZones': {'Zone': 'LAN'}, 'DestinationZones': {'Zone': 'WAN'}, 'Schedule': 'All The Time', 'DSCPMarking': '-1', 'WebFilter': 'No Explicit Content', 'WebCategoryBaseQoSPolicy': None, 'BlockQuickQuic': 'Enable', 'ScanVirus': 'Enable', 'ZeroDayProtection': 'Enable', 'ProxyMode': 'Disable', 'DecryptHTTPS': 'Disable', 'ApplicationControl': 'Allow All', 'ApplicationBaseQoSPolicy': None, 'IntrusionPrevention': 'LAN TO WAN', 'TrafficShappingPolicy': 'None', 'ScanSMTP': 'Disable', 'ScanSMTPS': 'Disable', 'ScanIMAP': 'Disable', 'ScanIMAPS': 'Disable', 'ScanPOP3': 'Disable', 'ScanPOP3S': 'Disable', 'ScanFTP': 'Enable', 'SourceSecurityHeartbeat': 'Disable', 'MinimumSourceHBPermitted': 'No Restriction', 'DestSecurityHeartbeat': 'Disable', 'MinimumDestinationHBPermitted': 'No Restriction'}}\n",
      "010: {'Name': 'IPsec Policy_LAB', 'Description': 'AFTER RULE Auto created Firewall Rule', 'IPFamily': 'IPv4', 'Status': 'Enable', 'Position': 'After', 'PolicyType': 'Network', 'After': {'Name': 'Default WAN Access'}, 'NetworkPolicy': {'Action': 'Accept', 'LogTraffic': 'Enable', 'SkipLocalDestined': 'Disable', 'Schedule': 'All The Time', 'SourceNetworks': {'Network': ['192.168.30.0/24', '192.168.10.0/24']}, 'DestinationNetworks': {'Network': ['192.168.30.0/24', '192.168.10.0/24']}, 'DSCPMarking': '-1', 'WebFilter': 'None', 'WebCategoryBaseQoSPolicy': None, 'BlockQuickQuic': 'Disable', 'ScanVirus': 'Disable', 'ZeroDayProtection': 'Disable', 'ProxyMode': 'Disable', 'DecryptHTTPS': 'Disable', 'ApplicationControl': 'None', 'ApplicationBaseQoSPolicy': None, 'IntrusionPrevention': 'None', 'TrafficShappingPolicy': 'None', 'ScanSMTP': 'Disable', 'ScanSMTPS': 'Disable', 'ScanIMAP': 'Disable', 'ScanIMAPS': 'Disable', 'ScanPOP3': 'Disable', 'ScanPOP3S': 'Disable', 'ScanFTP': 'Disable', 'SourceSecurityHeartbeat': 'Disable', 'MinimumSourceHBPermitted': 'No Restriction', 'DestSecurityHeartbeat': 'Disable', 'MinimumDestinationHBPermitted': 'No Restriction'}}\n"
     ]
    }
   ],
   "source": [
    "# Demo create, read, update, delete\n",
    "# Using context manager\n",
    "#\n",
    "with Firewall(username, password, firewall_ip, port, certificate_verify=certificate_verify, password_encrypted=password_encrypted) as firewall:\n",
    "\n",
    "    print(\"CREATE :: \", firewall.create(\"IPHost\", {\"Name\": \"TEST 1\", \"IPFamily\": \"IPv4\", \"HostType\": \"IP\", \"IPAddress\": \"172.16.17.100\"}))\n",
    "    print(\"CREATE :: \", firewall.create(\"IPHost\", {\"Name\": \"TEST 2\", \"IPFamily\": \"IPv4\", \"HostType\": \"IP\", \"IPAddress\": \"172.16.17.100\"}))\n",
    "    print(\"CREATE :: \", firewall.create(\"IPHost\", {\"Name\": \"TEST 3\", \"IPFamily\": \"IPv4\", \"HostType\": \"IP\", \"IPAddress\": \"172.16.17.100\"}))\n",
    "    print(\"CREATE :: \", firewall.create(\"IPHost\", {\"Name\": \"TEST 4\", \"IPFamily\": \"IPv4\", \"HostType\": \"IP\", \"IPAddress\": \"172.16.17.100\"}))\n",
    "\n",
    "    print(\"\\nREAD :: \")\n",
    "    response = firewall.read(\"IPHost\", \"TEST\", LIKE)\n",
    "    print(\"Code:\", response[\"code\"], \"Text:\", response[\"text\"])\n",
    "    for index, item in enumerate(response[\"data\"], start=1):\n",
    "        print(f\"{index:03}: {item}\")\n",
    "\n",
    "    print(\"\\nUPDATE :: \", firewall.update(\"IPHost\", {\"Name\": \"TEST 1\", \"IPFamily\": \"IPv4\", \"HostType\": \"IP\", \"IPAddress\": \"172.16.17.101\"}))\n",
    "    print(\"UPDATE :: \", firewall.update(\"IPHost\", {\"Name\": \"TEST 2\", \"IPFamily\": \"IPv4\", \"HostType\": \"IP\", \"IPAddress\": \"172.16.17.102\"}))\n",
    "    print(\"UPDATE :: \", firewall.update(\"IPHost\", {\"Name\": \"TEST 3\", \"IPFamily\": \"IPv4\", \"HostType\": \"IP\", \"IPAddress\": \"172.16.17.103\"}))\n",
    "    print(\"UPDATE :: \", firewall.update(\"IPHost\", {\"Name\": \"TEST 4\", \"IPFamily\": \"IPv4\", \"HostType\": \"IP\", \"IPAddress\": \"172.16.17.104\"}))\n",
    "\n",
    "    print(\"\\nREAD :: \")\n",
    "    response = firewall.read(\"IPHost\", \"TEST\", LIKE)\n",
    "    print(\"Code:\", response[\"code\"], \"Text:\", response[\"text\"])\n",
    "    for index, item in enumerate(response[\"data\"], start=1):\n",
    "        print(f\"{index:03}: {item}\")\n",
    "\n",
    "    print(\"\\nDELETE :: \", )\n",
    "    response = firewall.delete(\"IPHost\", \"TEST 1\")\n",
    "    print(\"DELETE :: TEST 1 ->\",\"Code:\", response[\"code\"], \"Text:\", response[\"text\"])\n",
    "    response = firewall.delete(\"IPHost\", \"TEST 2\")\n",
    "    print(\"DELETE :: TEST 2 ->\",\"Code:\", response[\"code\"], \"Text:\", response[\"text\"])\n",
    "\n",
    "    print(\"\\nREAD :: \")\n",
    "    response = firewall.read(\"IPHost\", \"TEST\", LIKE)\n",
    "    print(\"Code:\", response[\"code\"], \"Text:\", response[\"text\"])\n",
    "    for index, item in enumerate(response[\"data\"], start=1):\n",
    "        print(f\"{index:03}: {item}\")\n",
    "\n",
    "    print(\"\\nDELETE :: \")\n",
    "    response = firewall.delete(\"IPHost\", \"TEST\", LIKE)\n",
    "    print(\"Code:\", response[\"code\"], \"Text:\", response[\"text\"])\n",
    "\n",
    "    print(\"\\nREAD :: \")\n",
    "    response = firewall.read(\"IPHost\", \"TEST\", LIKE)\n",
    "    print(\"Code:\", response[\"code\"], \"Text:\", response[\"text\"])\n",
    "    for index, item in enumerate(response[\"data\"], start=1):\n",
    "        print(f\"{index:03}: {item}\")\n",
    "\n",
    "\n",
    "    print(\"\\nREAD :: FirewallRule\")\n",
    "    response = firewall.read(\"FirewallRule\")\n",
    "    print(\"Code:\", response[\"code\"], \"Text:\", response[\"text\"])\n",
    "    for index, item in enumerate(response[\"data\"], start=1):\n",
    "        print(f\"{index:03}: {item}\")\n"
   ]
  },
  {
   "cell_type": "raw",
   "metadata": {},
   "source": [
    "# Initiate firewall object with DEFAULT settings\n",
    "# port=\"4444\"\n",
    "# password_encrypted = False\n",
    "# verify=False\n",
    "\n",
    "from sophos_firewall_api import Firewall, EQ, NOT, LIKE\n",
    "\n",
    "firewall = Firewall(\"<<username>>\", \"<<password>>\", \"<<firewall_ip>>\")\n",
    "\n",
    "firewall = Firewall(\"admin\", \"Pa$$w0rd\", \"172.16.17.30\")"
   ]
  },
  {
   "cell_type": "code",
   "execution_count": 4,
   "metadata": {},
   "outputs": [],
   "source": [
    "# Initialising firewall object with custom settings\n",
    "#\n",
    "firewall = Firewall(username, password, firewall_ip, port, certificate_verify=certificate_verify, password_encrypted=password_encrypted)"
   ]
  },
  {
   "cell_type": "code",
   "execution_count": 5,
   "metadata": {},
   "outputs": [
    {
     "name": "stdout",
     "output_type": "stream",
     "text": [
      "\n",
      "READ :: FirewallRule entity_type with AZURE in the 'Name' \n",
      "Code: 216 Text: Operation Successful.\n",
      "001: {'Name': 'IPsec TO_AZURE', 'Description': 'Auto created Firewall Rule', 'IPFamily': 'IPv4', 'Status': 'Enable', 'Position': 'After', 'PolicyType': 'Network', 'After': {'Name': 'Site-to-Site'}, 'NetworkPolicy': {'Action': 'Accept', 'LogTraffic': 'Disable', 'SkipLocalDestined': 'Disable', 'Schedule': 'All The Time', 'SourceNetworks': {'Network': ['192.168.30.0/24', '192.168.10.0/24']}, 'DestinationNetworks': {'Network': ['192.168.30.0/24', '192.168.10.0/24']}, 'DSCPMarking': '-1', 'WebFilter': 'None', 'WebCategoryBaseQoSPolicy': None, 'BlockQuickQuic': 'Disable', 'ScanVirus': 'Disable', 'ZeroDayProtection': 'Disable', 'ProxyMode': 'Disable', 'DecryptHTTPS': 'Disable', 'ApplicationControl': 'None', 'ApplicationBaseQoSPolicy': None, 'IntrusionPrevention': 'None', 'TrafficShappingPolicy': 'None', 'ScanSMTP': 'Disable', 'ScanSMTPS': 'Disable', 'ScanIMAP': 'Disable', 'ScanIMAPS': 'Disable', 'ScanPOP3': 'Disable', 'ScanPOP3S': 'Disable', 'ScanFTP': 'Disable', 'SourceSecurityHeartbeat': 'Disable', 'MinimumSourceHBPermitted': 'No Restriction', 'DestSecurityHeartbeat': 'Disable', 'MinimumDestinationHBPermitted': 'No Restriction'}}\n"
     ]
    }
   ],
   "source": [
    "# FirewallRUle will be filtered for NAT string in Name\n",
    "entity_type = \"FirewallRule\"\n",
    "entity_name = \"AZURE\"\n",
    "\n",
    "print(f\"\\nREAD :: {entity_type} entity_type with {entity_name} in the 'Name' \")\n",
    "response = firewall.read(entity_type, entity_name, LIKE)\n",
    "print(\"Code:\", response[\"code\"], \"Text:\", response[\"text\"])\n",
    "for index, item in enumerate(response[\"data\"], start=1):\n",
    "    print(f\"{index:03}: {item}\")"
   ]
  },
  {
   "cell_type": "code",
   "execution_count": 6,
   "metadata": {},
   "outputs": [],
   "source": [
    "entity_type = \"FirewallRule\"\n",
    "\n",
    "Data = {\n",
    "    \"Name\": \"NEW Firewall Rule\",\n",
    "    \"Description\": \"NEW Firewall Rule Created from API\",\n",
    "    \"IPFamily\": \"IPv4\",\n",
    "    \"Status\": \"Enable\",\n",
    "    \"Position\": \"Top\",\n",
    "    \"PolicyType\": \"Network\",\n",
    "    # \"After\": {\"Name\": \"NEW Rule\"}, # depends on \"Position\"\n",
    "    \"NetworkPolicy\": {\n",
    "        \"Action\": \"Accept\",\n",
    "        \"LogTraffic\": \"Enable\",\n",
    "        #     \"SkipLocalDestined\": \"Disable\",\n",
    "        \"SourceZones\": {\"Zone\": [\"LAN\", \"DMZ\"]},\n",
    "        \"DestinationZones\": {\"Zone\": \"WAN\"},\n",
    "        \"SourceNetworks\": {\"Network\": [\"192.168.30.0/24\", \"192.168.10.0/24\"]},\n",
    "        # \"DestinationNetworks\": {\"Network\": [\"192.168.30.0/24\", \"192.168.10.0/24\"]},\n",
    "        #     \"Schedule\": \"All The Time\",\n",
    "        #     \"Services\": {\"Service\": \"RDP\"},   # Do not include for \"Any service\"\n",
    "        #     \"DestinationNetworks\": {\"Network\": \"#Port2:1\"},\n",
    "        #     \"DSCPMarking\": \"0\",\n",
    "        #     \"WebFilter\": \"None\",\n",
    "        #     \"WebCategoryBaseQoSPolicy\": None,\n",
    "        #     \"BlockQuickQuic\": \"Disable\",\n",
    "        #     \"ScanVirus\": \"Disable\",\n",
    "        #     \"ZeroDayProtection\": \"Disable\",\n",
    "        #     \"ProxyMode\": \"Disable\",\n",
    "        #     \"DecryptHTTPS\": \"Disable\",\n",
    "        #     \"ApplicationControl\": \"None\",\n",
    "        #     \"ApplicationBaseQoSPolicy\": None,\n",
    "        #     \"IntrusionPrevention\": \"None\",\n",
    "        #     \"TrafficShappingPolicy\": \"None\",\n",
    "        #     \"ScanSMTP\": \"Enable\",\n",
    "        #     \"ScanSMTPS\": \"Enable\",\n",
    "        #     \"ScanIMAP\": \"Enable\",\n",
    "        #     \"ScanIMAPS\": \"Enable\",\n",
    "        #     \"ScanPOP3\": \"Enable\",\n",
    "        #     \"ScanPOP3S\": \"Enable\",\n",
    "        #     \"ScanFTP\": \"Enable\",\n",
    "        #     \"SourceSecurityHeartbeat\": \"Disable\",\n",
    "        #     \"MinimumSourceHBPermitted\": \"No Restriction\",\n",
    "        #     \"DestSecurityHeartbeat\": \"Disable\",\n",
    "        #     \"MinimumDestinationHBPermitted\": \"No Restriction\",\n",
    "    },\n",
    "}"
   ]
  },
  {
   "cell_type": "code",
   "execution_count": 7,
   "metadata": {},
   "outputs": [
    {
     "name": "stdout",
     "output_type": "stream",
     "text": [
      "create ::  {'data': [], 'code': '200', 'text': 'Configuration applied successfully.'}\n"
     ]
    }
   ],
   "source": [
    "print(\"create :: \", firewall.create(entity_type, Data))"
   ]
  },
  {
   "cell_type": "code",
   "execution_count": 8,
   "metadata": {},
   "outputs": [
    {
     "name": "stdout",
     "output_type": "stream",
     "text": [
      "read ::  {'data': [{'Name': 'NEW Firewall Rule', 'Description': 'NEW Firewall Rule Created from API', 'IPFamily': 'IPv4', 'Status': 'Enable', 'Position': 'Top', 'PolicyType': 'Network', 'NetworkPolicy': {'Action': 'Accept', 'LogTraffic': 'Enable', 'SkipLocalDestined': 'Disable', 'SourceZones': {'Zone': ['DMZ', 'LAN']}, 'DestinationZones': {'Zone': 'WAN'}, 'Schedule': 'All The Time', 'SourceNetworks': {'Network': ['192.168.30.0/24', '192.168.10.0/24']}, 'DSCPMarking': '0', 'WebFilter': 'None', 'WebCategoryBaseQoSPolicy': None, 'BlockQuickQuic': 'Disable', 'ScanVirus': 'Disable', 'ZeroDayProtection': 'Disable', 'ProxyMode': 'Disable', 'DecryptHTTPS': 'Disable', 'ApplicationControl': 'None', 'ApplicationBaseQoSPolicy': None, 'IntrusionPrevention': 'None', 'TrafficShappingPolicy': 'None', 'ScanSMTP': 'Disable', 'ScanSMTPS': 'Disable', 'ScanIMAP': 'Disable', 'ScanIMAPS': 'Disable', 'ScanPOP3': 'Disable', 'ScanPOP3S': 'Disable', 'ScanFTP': 'Disable', 'SourceSecurityHeartbeat': 'Disable', 'MinimumSourceHBPermitted': 'No Restriction', 'DestSecurityHeartbeat': 'Disable', 'MinimumDestinationHBPermitted': 'No Restriction'}}], 'code': '216', 'text': 'Operation Successful.'}\n"
     ]
    }
   ],
   "source": [
    "print(\"read :: \", firewall.read(entity_type, Data[\"Name\"]))"
   ]
  },
  {
   "cell_type": "code",
   "execution_count": 9,
   "metadata": {},
   "outputs": [
    {
     "name": "stdout",
     "output_type": "stream",
     "text": [
      "update ::  {'data': [], 'code': '200', 'text': 'Configuration applied successfully.'}\n"
     ]
    }
   ],
   "source": [
    "print(\"update :: \", firewall.update(entity_type, Data))"
   ]
  },
  {
   "cell_type": "code",
   "execution_count": 10,
   "metadata": {},
   "outputs": [
    {
     "name": "stdout",
     "output_type": "stream",
     "text": [
      "delete ::  {'data': [], 'code': '200', 'text': 'Configuration applied successfully.'}\n"
     ]
    }
   ],
   "source": [
    "print(\"delete :: \", firewall.delete(entity_type, Data[\"Name\"]))"
   ]
  },
  {
   "cell_type": "code",
   "execution_count": 11,
   "metadata": {},
   "outputs": [
    {
     "name": "stdout",
     "output_type": "stream",
     "text": [
      "\n",
      "READ :: FirewallRule\n",
      "Code: 216 Text: Operation Successful.\n",
      "001: {'Name': 'Site-to-Site', 'Description': None, 'IPFamily': 'IPv4', 'Status': 'Enable', 'Position': 'Top', 'PolicyType': 'Network', 'NetworkPolicy': {'Action': 'Accept', 'LogTraffic': 'Enable', 'SkipLocalDestined': 'Disable', 'SourceZones': {'Zone': ['VPN', 'LAN']}, 'DestinationZones': {'Zone': ['VPN', 'LAN']}, 'Schedule': 'All The Time', 'DSCPMarking': '-1', 'WebFilter': 'None', 'WebCategoryBaseQoSPolicy': None, 'BlockQuickQuic': 'Disable', 'ScanVirus': 'Disable', 'ZeroDayProtection': 'Disable', 'ProxyMode': 'Disable', 'DecryptHTTPS': 'Disable', 'ApplicationControl': 'None', 'ApplicationBaseQoSPolicy': None, 'IntrusionPrevention': 'None', 'TrafficShappingPolicy': 'None', 'ScanSMTP': 'Disable', 'ScanSMTPS': 'Disable', 'ScanIMAP': 'Disable', 'ScanIMAPS': 'Disable', 'ScanPOP3': 'Disable', 'ScanPOP3S': 'Disable', 'ScanFTP': 'Disable', 'SourceSecurityHeartbeat': 'Disable', 'MinimumSourceHBPermitted': 'No Restriction', 'DestSecurityHeartbeat': 'Disable', 'MinimumDestinationHBPermitted': 'No Restriction'}}\n",
      "002: {'Name': 'IPsec TO_AZURE', 'Description': 'Auto created Firewall Rule', 'IPFamily': 'IPv4', 'Status': 'Enable', 'Position': 'After', 'PolicyType': 'Network', 'After': {'Name': 'Site-to-Site'}, 'NetworkPolicy': {'Action': 'Accept', 'LogTraffic': 'Disable', 'SkipLocalDestined': 'Disable', 'Schedule': 'All The Time', 'SourceNetworks': {'Network': ['192.168.30.0/24', '192.168.10.0/24']}, 'DestinationNetworks': {'Network': ['192.168.30.0/24', '192.168.10.0/24']}, 'DSCPMarking': '-1', 'WebFilter': 'None', 'WebCategoryBaseQoSPolicy': None, 'BlockQuickQuic': 'Disable', 'ScanVirus': 'Disable', 'ZeroDayProtection': 'Disable', 'ProxyMode': 'Disable', 'DecryptHTTPS': 'Disable', 'ApplicationControl': 'None', 'ApplicationBaseQoSPolicy': None, 'IntrusionPrevention': 'None', 'TrafficShappingPolicy': 'None', 'ScanSMTP': 'Disable', 'ScanSMTPS': 'Disable', 'ScanIMAP': 'Disable', 'ScanIMAPS': 'Disable', 'ScanPOP3': 'Disable', 'ScanPOP3S': 'Disable', 'ScanFTP': 'Disable', 'SourceSecurityHeartbeat': 'Disable', 'MinimumSourceHBPermitted': 'No Restriction', 'DestSecurityHeartbeat': 'Disable', 'MinimumDestinationHBPermitted': 'No Restriction'}}\n",
      "003: {'Name': 'IPsec Sophos_To_FortiGate', 'Description': 'Auto created Firewall Rule', 'IPFamily': 'IPv4', 'Status': 'Enable', 'Position': 'After', 'PolicyType': 'Network', 'After': {'Name': 'IPsec TO_AZURE'}, 'NetworkPolicy': {'Action': 'Accept', 'LogTraffic': 'Disable', 'SkipLocalDestined': 'Disable', 'Schedule': 'All The Time', 'SourceNetworks': {'Network': ['192.168.30.0/24', '192.168.10.0/24']}, 'DestinationNetworks': {'Network': ['192.168.30.0/24', '192.168.10.0/24']}, 'DSCPMarking': '-1', 'WebFilter': 'None', 'WebCategoryBaseQoSPolicy': None, 'BlockQuickQuic': 'Disable', 'ScanVirus': 'Disable', 'ZeroDayProtection': 'Disable', 'ProxyMode': 'Disable', 'DecryptHTTPS': 'Disable', 'ApplicationControl': 'None', 'ApplicationBaseQoSPolicy': None, 'IntrusionPrevention': 'None', 'TrafficShappingPolicy': 'None', 'ScanSMTP': 'Disable', 'ScanSMTPS': 'Disable', 'ScanIMAP': 'Disable', 'ScanIMAPS': 'Disable', 'ScanPOP3': 'Disable', 'ScanPOP3S': 'Disable', 'ScanFTP': 'Disable', 'SourceSecurityHeartbeat': 'Disable', 'MinimumSourceHBPermitted': 'No Restriction', 'DestSecurityHeartbeat': 'Disable', 'MinimumDestinationHBPermitted': 'No Restriction'}}\n",
      "004: {'Name': 'Web Protection', 'Description': None, 'IPFamily': 'IPv4', 'Status': 'Enable', 'Position': 'After', 'PolicyType': 'HTTPBased', 'After': {'Name': 'IPsec Sophos_To_FortiGate'}, 'HTTPBasedPolicy': {'HostedAddress': '#Port2:2', 'HTTPS': 'Disable', 'ListenPort': '80', 'Domains': {'Domain': '172.16.17.33'}, 'AccessPaths': {'AccessPath': {'allowed_networks': 'Any IPv4', 'auth_profile': 'Basic with passthrough', 'backend': 'Web Server', 'be_path': None, 'block_unknown_country': '0', 'hot_standby': '0', 'path': '/', 'stickysession_status': '0', 'websocket_passthrough': '0'}}, 'Exceptions': None, 'ProtocolSecurity': 'Web Protection General', 'CompressionSupport': 'Disable', 'RewriteHTML': '0', 'PassHostHeader': 'Disable', 'RewriteCookies': 'Enable', 'IntrusionPrevention': 'None', 'TrafficShapingPolicy': 'None', 'Certificate': None, 'RedirectHTTP': 'Disable', 'InterfaceUnavailable': '0', 'BackendsUnavailable': '0'}}\n",
      "005: {'Name': 'Services', 'Description': None, 'IPFamily': 'IPv4', 'Status': 'Enable', 'Position': 'After', 'PolicyType': 'Network', 'After': {'Name': 'Web Protection'}, 'NetworkPolicy': {'Action': 'Accept', 'LogTraffic': 'Enable', 'SkipLocalDestined': 'Disable', 'SourceZones': {'Zone': 'LAN'}, 'DestinationZones': {'Zone': 'WAN'}, 'Schedule': 'All The Time', 'Services': {'Service': 'DNS'}, 'DSCPMarking': '-1', 'WebFilter': 'None', 'WebCategoryBaseQoSPolicy': None, 'BlockQuickQuic': 'Disable', 'ScanVirus': 'Disable', 'ZeroDayProtection': 'Disable', 'ProxyMode': 'Disable', 'DecryptHTTPS': 'Disable', 'ApplicationControl': 'None', 'ApplicationBaseQoSPolicy': None, 'IntrusionPrevention': 'None', 'TrafficShappingPolicy': 'None', 'ScanSMTP': 'Disable', 'ScanSMTPS': 'Disable', 'ScanIMAP': 'Disable', 'ScanIMAPS': 'Disable', 'ScanPOP3': 'Disable', 'ScanPOP3S': 'Disable', 'ScanFTP': 'Disable', 'SourceSecurityHeartbeat': 'Disable', 'MinimumSourceHBPermitted': 'No Restriction', 'DestSecurityHeartbeat': 'Disable', 'MinimumDestinationHBPermitted': 'No Restriction'}}\n",
      "006: {'Name': 'DNAT to wrk.lab.local', 'Description': None, 'IPFamily': 'IPv4', 'Status': 'Enable', 'Position': 'After', 'PolicyType': 'Network', 'After': {'Name': 'Services'}, 'NetworkPolicy': {'Action': 'Accept', 'LogTraffic': 'Enable', 'SkipLocalDestined': 'Disable', 'SourceZones': {'Zone': 'WAN'}, 'DestinationZones': {'Zone': 'LAN'}, 'Schedule': 'All The Time', 'Services': {'Service': 'RDP'}, 'DestinationNetworks': {'Network': '#Port2:1'}, 'DSCPMarking': '-1', 'WebFilter': 'None', 'WebCategoryBaseQoSPolicy': None, 'BlockQuickQuic': 'Disable', 'ScanVirus': 'Disable', 'ZeroDayProtection': 'Disable', 'ProxyMode': 'Disable', 'DecryptHTTPS': 'Disable', 'ApplicationControl': 'None', 'ApplicationBaseQoSPolicy': None, 'IntrusionPrevention': 'None', 'TrafficShappingPolicy': 'None', 'ScanSMTP': 'Disable', 'ScanSMTPS': 'Disable', 'ScanIMAP': 'Disable', 'ScanIMAPS': 'Disable', 'ScanPOP3': 'Disable', 'ScanPOP3S': 'Disable', 'ScanFTP': 'Disable', 'SourceSecurityHeartbeat': 'Disable', 'MinimumSourceHBPermitted': 'No Restriction', 'DestSecurityHeartbeat': 'Disable', 'MinimumDestinationHBPermitted': 'No Restriction'}}\n",
      "007: {'Name': 'DNAT to srv.lab.local', 'Description': None, 'IPFamily': 'IPv4', 'Status': 'Enable', 'Position': 'After', 'PolicyType': 'Network', 'After': {'Name': 'DNAT to wrk.lab.local'}, 'NetworkPolicy': {'Action': 'Accept', 'LogTraffic': 'Enable', 'SkipLocalDestined': 'Disable', 'SourceZones': {'Zone': 'WAN'}, 'DestinationZones': {'Zone': 'LAN'}, 'Schedule': 'All The Time', 'Services': {'Service': 'RDP'}, 'DestinationNetworks': {'Network': '#Port2:0'}, 'DSCPMarking': '-1', 'WebFilter': 'None', 'WebCategoryBaseQoSPolicy': None, 'BlockQuickQuic': 'Disable', 'ScanVirus': 'Disable', 'ZeroDayProtection': 'Disable', 'ProxyMode': 'Disable', 'DecryptHTTPS': 'Disable', 'ApplicationControl': 'None', 'ApplicationBaseQoSPolicy': None, 'IntrusionPrevention': 'None', 'TrafficShappingPolicy': 'None', 'ScanSMTP': 'Disable', 'ScanSMTPS': 'Disable', 'ScanIMAP': 'Disable', 'ScanIMAPS': 'Disable', 'ScanPOP3': 'Disable', 'ScanPOP3S': 'Disable', 'ScanFTP': 'Disable', 'SourceSecurityHeartbeat': 'Disable', 'MinimumSourceHBPermitted': 'No Restriction', 'DestSecurityHeartbeat': 'Disable', 'MinimumDestinationHBPermitted': 'No Restriction'}}\n",
      "008: {'Name': 'Traffic to Internal Zones', 'Description': 'A disabled Firewall rule with the destination zone as LAN, WiFi, VPN or DMZ . Such rules would be added to Traffic to Internal Zones group on the first match basis if user selects automatic grouping option.', 'IPFamily': 'IPv4', 'Status': 'Enable', 'Position': 'After', 'PolicyType': 'User', 'After': {'Name': 'DNAT to srv.lab.local'}, 'UserPolicy': {'Action': 'Drop', 'LogTraffic': 'Enable', 'DestinationZones': {'Zone': ['DMZ', 'VPN', 'WiFi', 'LAN']}, 'Schedule': 'All The Time', 'SkipLocalDestined': 'Disable', 'MatchIdentity': 'Enable', 'DataAccounting': 'Disable', 'ShowCaptivePortal': 'Enable'}}\n",
      "009: {'Name': 'Default WAN Access', 'Description': None, 'IPFamily': 'IPv4', 'Status': 'Enable', 'Position': 'After', 'PolicyType': 'Network', 'After': {'Name': 'Traffic to Internal Zones'}, 'NetworkPolicy': {'Action': 'Accept', 'LogTraffic': 'Enable', 'SkipLocalDestined': 'Disable', 'SourceZones': {'Zone': 'LAN'}, 'DestinationZones': {'Zone': 'WAN'}, 'Schedule': 'All The Time', 'DSCPMarking': '-1', 'WebFilter': 'No Explicit Content', 'WebCategoryBaseQoSPolicy': None, 'BlockQuickQuic': 'Enable', 'ScanVirus': 'Enable', 'ZeroDayProtection': 'Enable', 'ProxyMode': 'Disable', 'DecryptHTTPS': 'Disable', 'ApplicationControl': 'Allow All', 'ApplicationBaseQoSPolicy': None, 'IntrusionPrevention': 'LAN TO WAN', 'TrafficShappingPolicy': 'None', 'ScanSMTP': 'Disable', 'ScanSMTPS': 'Disable', 'ScanIMAP': 'Disable', 'ScanIMAPS': 'Disable', 'ScanPOP3': 'Disable', 'ScanPOP3S': 'Disable', 'ScanFTP': 'Enable', 'SourceSecurityHeartbeat': 'Disable', 'MinimumSourceHBPermitted': 'No Restriction', 'DestSecurityHeartbeat': 'Disable', 'MinimumDestinationHBPermitted': 'No Restriction'}}\n",
      "010: {'Name': 'IPsec Policy_LAB', 'Description': 'AFTER RULE Auto created Firewall Rule', 'IPFamily': 'IPv4', 'Status': 'Enable', 'Position': 'After', 'PolicyType': 'Network', 'After': {'Name': 'Default WAN Access'}, 'NetworkPolicy': {'Action': 'Accept', 'LogTraffic': 'Enable', 'SkipLocalDestined': 'Disable', 'Schedule': 'All The Time', 'SourceNetworks': {'Network': ['192.168.30.0/24', '192.168.10.0/24']}, 'DestinationNetworks': {'Network': ['192.168.30.0/24', '192.168.10.0/24']}, 'DSCPMarking': '-1', 'WebFilter': 'None', 'WebCategoryBaseQoSPolicy': None, 'BlockQuickQuic': 'Disable', 'ScanVirus': 'Disable', 'ZeroDayProtection': 'Disable', 'ProxyMode': 'Disable', 'DecryptHTTPS': 'Disable', 'ApplicationControl': 'None', 'ApplicationBaseQoSPolicy': None, 'IntrusionPrevention': 'None', 'TrafficShappingPolicy': 'None', 'ScanSMTP': 'Disable', 'ScanSMTPS': 'Disable', 'ScanIMAP': 'Disable', 'ScanIMAPS': 'Disable', 'ScanPOP3': 'Disable', 'ScanPOP3S': 'Disable', 'ScanFTP': 'Disable', 'SourceSecurityHeartbeat': 'Disable', 'MinimumSourceHBPermitted': 'No Restriction', 'DestSecurityHeartbeat': 'Disable', 'MinimumDestinationHBPermitted': 'No Restriction'}}\n"
     ]
    }
   ],
   "source": [
    "# Read all FirewallRules\n",
    "#\n",
    "entity_type = \"FirewallRule\"\n",
    "\n",
    "print(f\"\\nREAD :: {entity_type}\")\n",
    "response = firewall.read(entity_type)\n",
    "print(\"Code:\", response[\"code\"], \"Text:\", response[\"text\"])\n",
    "for index, item in enumerate(response[\"data\"], start=1):\n",
    "    print(f\"{index:03}: {item}\")"
   ]
  },
  {
   "cell_type": "code",
   "execution_count": 12,
   "metadata": {},
   "outputs": [
    {
     "name": "stdout",
     "output_type": "stream",
     "text": [
      "Code: 216 Text: Operation Successful.\n",
      "001: {'Name': 'DNAT to wrk.lab.local', 'Description': None, 'IPFamily': 'IPv4', 'Status': 'Enable', 'Position': 'After', 'PolicyType': 'Network', 'After': {'Name': 'Services'}, 'NetworkPolicy': {'Action': 'Accept', 'LogTraffic': 'Enable', 'SkipLocalDestined': 'Disable', 'SourceZones': {'Zone': 'WAN'}, 'DestinationZones': {'Zone': 'LAN'}, 'Schedule': 'All The Time', 'Services': {'Service': 'RDP'}, 'DestinationNetworks': {'Network': '#Port2:1'}, 'DSCPMarking': '-1', 'WebFilter': 'None', 'WebCategoryBaseQoSPolicy': None, 'BlockQuickQuic': 'Disable', 'ScanVirus': 'Disable', 'ZeroDayProtection': 'Disable', 'ProxyMode': 'Disable', 'DecryptHTTPS': 'Disable', 'ApplicationControl': 'None', 'ApplicationBaseQoSPolicy': None, 'IntrusionPrevention': 'None', 'TrafficShappingPolicy': 'None', 'ScanSMTP': 'Disable', 'ScanSMTPS': 'Disable', 'ScanIMAP': 'Disable', 'ScanIMAPS': 'Disable', 'ScanPOP3': 'Disable', 'ScanPOP3S': 'Disable', 'ScanFTP': 'Disable', 'SourceSecurityHeartbeat': 'Disable', 'MinimumSourceHBPermitted': 'No Restriction', 'DestSecurityHeartbeat': 'Disable', 'MinimumDestinationHBPermitted': 'No Restriction'}}\n",
      "002: {'Name': 'DNAT to srv.lab.local', 'Description': None, 'IPFamily': 'IPv4', 'Status': 'Enable', 'Position': 'After', 'PolicyType': 'Network', 'After': {'Name': 'DNAT to wrk.lab.local'}, 'NetworkPolicy': {'Action': 'Accept', 'LogTraffic': 'Enable', 'SkipLocalDestined': 'Disable', 'SourceZones': {'Zone': 'WAN'}, 'DestinationZones': {'Zone': 'LAN'}, 'Schedule': 'All The Time', 'Services': {'Service': 'RDP'}, 'DestinationNetworks': {'Network': '#Port2:0'}, 'DSCPMarking': '-1', 'WebFilter': 'None', 'WebCategoryBaseQoSPolicy': None, 'BlockQuickQuic': 'Disable', 'ScanVirus': 'Disable', 'ZeroDayProtection': 'Disable', 'ProxyMode': 'Disable', 'DecryptHTTPS': 'Disable', 'ApplicationControl': 'None', 'ApplicationBaseQoSPolicy': None, 'IntrusionPrevention': 'None', 'TrafficShappingPolicy': 'None', 'ScanSMTP': 'Disable', 'ScanSMTPS': 'Disable', 'ScanIMAP': 'Disable', 'ScanIMAPS': 'Disable', 'ScanPOP3': 'Disable', 'ScanPOP3S': 'Disable', 'ScanFTP': 'Disable', 'SourceSecurityHeartbeat': 'Disable', 'MinimumSourceHBPermitted': 'No Restriction', 'DestSecurityHeartbeat': 'Disable', 'MinimumDestinationHBPermitted': 'No Restriction'}}\n"
     ]
    }
   ],
   "source": [
    "# 'DNAT' in the 'Name' of the 'FirewallRule'\n",
    "#\n",
    "response = firewall.read(entity_type,\"DNAT\",LIKE)\n",
    "print(\"Code:\", response[\"code\"], \"Text:\", response[\"text\"])\n",
    "for index, item in enumerate(response[\"data\"], start=1):\n",
    "    print(f\"{index:03}: {item}\")"
   ]
  },
  {
   "cell_type": "code",
   "execution_count": 13,
   "metadata": {},
   "outputs": [],
   "source": [
    "# WebFilterURLGroup\n",
    "entity_type = \"WebFilterURLGroup\"\n",
    "\n",
    "# WebFilterURLGroup Template. Use read(entity_type) method to obtain\n",
    "entity_data_1 = {\n",
    "    \"Name\": \"TEST 1\",\n",
    "    \"Description\": \"TEST 1\",\n",
    "    \"URLlist\": {\"URL\": [\"www.example.com\", \"test.com\", \"best.com\"]},\n",
    "}\n",
    "\n",
    "\n",
    "entity_data_2 = {\n",
    "    \"Name\": \"TEST 2\",\n",
    "    \"Description\": \"TEST 2\",\n",
    "    \"URLlist\": {\"URL\": [\"www.example.com\", \"test.com\", \"best.com\"]},\n",
    "}"
   ]
  },
  {
   "cell_type": "code",
   "execution_count": 14,
   "metadata": {},
   "outputs": [
    {
     "name": "stdout",
     "output_type": "stream",
     "text": [
      "Current WebfilterURLGroups\n",
      "Code: 216 Text: Operation Successful.\n",
      "001: {'Name': 'Managed TLS exclusion list', 'Description': 'Domains known to be incompatible with TLS decryption. The content of this URL group is managed and may be changed by firmware updates.  Sites in this group are excluded from TLS decryption by the built-in SSL/TLS exclusion rule.', 'IsDefault': 'Yes', 'URLlist': {'URL': ['adobe.com', 'agni.lindenlab.com', 'atl.citrixonline.com', 'authentication.citrixonline.com', 'iad.citrixonline.com', 'citrixonlinecdn.com', 'las.citrixonline.com', 'live.citrixonline.com', 'ord.citrixonline.com', 'sjc.citrixonline.com', 'fra.citrixonline.com', 'ams.citrixonline.com', 'servers.citrixonline.com', 'play.google.com', 'tpncs.simplifymedia.net', 'tpnxmpp.simplifymedia.net', 'gotomeeting.com', 'icloud.com', 'apple.com', 'gsa.apple.com', 'gsas.apple.com', 'itunes.apple.com', 'ess.apple.com', 'gc.apple.com', 'appstore.com', 'courier.sandbox.push.apple.com', 'swscan.apple.com', 'livemeeting.com', 'logmein.com', 'secure.logmeinrescue.com', 'mozilla.org', 'packetix.net', 'pgiconnect.com', 'softether.com', 'telex.cc', 'vedivi.com', 'vudu.com', 'adobelogin.com', 'android.com', 'bitdefender.com', 'bitdefender.net', 'books.google.com', 'drive.google.com', 'cloudmosa.com', 'crsi.symantec.com', 'central.avsi.symantec.com', 'services-prod.symantec.com', 'shasta-mr-healthy.symantec.com', 'login.norton.com', 'nds.norton.com', 'stats.norton.com', 'zpi.nortonzone.com', 'central.nrsi.symantec.com', 'ent-shasta-mr-clean.symantec.com', 'ent-shasta-rrs.symantec.com', 'vip.symantec.com', 'tses.symantec.com', 'www.nortonzone.com', 'dochub.com', 'dropbox.com', 'dropcam.com', 'fedoraproject.org', 'informaticacloud.com', 'informaticaondemand.com', 'infra.lync.com', 'activation.sls.microsoft.com', 'messenger.live.com', 'lr.live.net', 'account.live.com', 'accounts.mesh.com', 'update.microsoft.com', 'storage.mesh.com', 'sls.microsoft.com', 'windowsupdate.microsoft.com', 'windowsupdate.com', 'phonefactor.com', 'logentries.com', 'mzstatic.com', 'onepagecrm.com', 'osdimg.com', 'pathviewcloud.com', 'periscope.tv', 'postlm.com', 'postls.com', 'two.postls.com', 'quip.com', 'rhn.redhat.com', 'rooms.hp.com', 'securewebportal.net', 'sharpcast.com', 'silentcircle.com', 'silentcircle.net', 'snapchat.com', 'table14.fr', 'urlcloud.paloaltonetworks.com', 'vagrantcloud.com', 'verisign.com', 'wdcdn.net', 'wiredrive.com', 'whatsapp.net', 'whispersystems.org', 'wildfire.paloaltonetworks.com', 'anywhere2.telus.com', 'api.twitter.com', 'auth.gfx.ms', 'auth2.triongames.com', 'autoupdate.opera.com', 'bitbucket.org', 'discordapp.com', 'login.kaseya.net', 'myquickcloud.com', 'notify.mql5.com', 'updates.metaquotes.net', 'novafusion.ea.com', 'owner-api.teslamotors.com', 'portal.aws.amazon.com', 'secure.hp-ww.com', 'softwareupdate.vmware.com', 'sp.cwfservice.net', 'sso.8x8.com', 'vm.8x8.com', 'www.origin.com', 'sophos.com', 'sophosxl.com', 'sophosxl.net', 'sophosupd.com', 'sophosupd.net', 'mojave.net', 'alert.hitmanpro.com', 'tf-edr-message-upload-eu-central-1-prod-bucket.s3.amazonaws.com', 'tf-edr-message-upload-eu-west-1-prod-bucket.s3.amazonaws.com', 'tf-edr-message-upload-us-east-2-prod-bucket.s3.amazonaws.com', 'tf-edr-message-upload-us-west-2-prod-bucket.s3.amazonaws.com', 'mp.microsoft.com', 'wdcp.microsoft.com', 'definitionupdates.microsoft.com', 'go.microsoft.com', 'smartscreen.microsoft.com', 'wns.windows.com', 'logmeinrescue-enterprise.com', 'duosecurity.com', 'agentsmith.akamai-access.com', 'gotowebinar.com', 'ava.expertcity.com', 'cdn-apple.com', 'zoom.us', 'device.login.microsoftonline.com', 'secure.echosign.com']}}\n",
      "002: {'Name': 'Blocked URLs for Default Policy', 'Description': 'Edit this URL Group to specify sites that should be blocked by your default policy', 'IsDefault': 'No', 'URLlist': {'URL': 'www.example.com'}}\n",
      "003: {'Name': 'Local TLS exclusion list', 'Description': 'Used to hold domains added from the TLS troubleshooting tools. Sites in this group are excluded from TLS decryption by the built-in SSL/TLS exclusion rule.', 'IsDefault': 'Yes'}\n"
     ]
    }
   ],
   "source": [
    "response = firewall.read(entity_type)\n",
    "\n",
    "print(\"Current WebfilterURLGroups\")\n",
    "print(\"Code:\", response[\"code\"], \"Text:\", response[\"text\"])\n",
    "for index, item in enumerate(response[\"data\"], start=1):\n",
    "    print(f\"{index:03}: {item}\")"
   ]
  },
  {
   "cell_type": "code",
   "execution_count": 15,
   "metadata": {},
   "outputs": [
    {
     "name": "stdout",
     "output_type": "stream",
     "text": [
      "create ::  {'data': [], 'code': '200', 'text': 'Configuration applied successfully.'}\n",
      "create ::  {'data': [], 'code': '200', 'text': 'Configuration applied successfully.'}\n",
      "\n",
      "Current WebfilterURLGroups -> Code: 216 Text: Operation Successful.\n",
      "001: {'Name': 'Managed TLS exclusion list', 'Description': 'Domains known to be incompatible with TLS decryption. The content of this URL group is managed and may be changed by firmware updates.  Sites in this group are excluded from TLS decryption by the built-in SSL/TLS exclusion rule.', 'IsDefault': 'Yes', 'URLlist': {'URL': ['adobe.com', 'agni.lindenlab.com', 'atl.citrixonline.com', 'authentication.citrixonline.com', 'iad.citrixonline.com', 'citrixonlinecdn.com', 'las.citrixonline.com', 'live.citrixonline.com', 'ord.citrixonline.com', 'sjc.citrixonline.com', 'fra.citrixonline.com', 'ams.citrixonline.com', 'servers.citrixonline.com', 'play.google.com', 'tpncs.simplifymedia.net', 'tpnxmpp.simplifymedia.net', 'gotomeeting.com', 'icloud.com', 'apple.com', 'gsa.apple.com', 'gsas.apple.com', 'itunes.apple.com', 'ess.apple.com', 'gc.apple.com', 'appstore.com', 'courier.sandbox.push.apple.com', 'swscan.apple.com', 'livemeeting.com', 'logmein.com', 'secure.logmeinrescue.com', 'mozilla.org', 'packetix.net', 'pgiconnect.com', 'softether.com', 'telex.cc', 'vedivi.com', 'vudu.com', 'adobelogin.com', 'android.com', 'bitdefender.com', 'bitdefender.net', 'books.google.com', 'drive.google.com', 'cloudmosa.com', 'crsi.symantec.com', 'central.avsi.symantec.com', 'services-prod.symantec.com', 'shasta-mr-healthy.symantec.com', 'login.norton.com', 'nds.norton.com', 'stats.norton.com', 'zpi.nortonzone.com', 'central.nrsi.symantec.com', 'ent-shasta-mr-clean.symantec.com', 'ent-shasta-rrs.symantec.com', 'vip.symantec.com', 'tses.symantec.com', 'www.nortonzone.com', 'dochub.com', 'dropbox.com', 'dropcam.com', 'fedoraproject.org', 'informaticacloud.com', 'informaticaondemand.com', 'infra.lync.com', 'activation.sls.microsoft.com', 'messenger.live.com', 'lr.live.net', 'account.live.com', 'accounts.mesh.com', 'update.microsoft.com', 'storage.mesh.com', 'sls.microsoft.com', 'windowsupdate.microsoft.com', 'windowsupdate.com', 'phonefactor.com', 'logentries.com', 'mzstatic.com', 'onepagecrm.com', 'osdimg.com', 'pathviewcloud.com', 'periscope.tv', 'postlm.com', 'postls.com', 'two.postls.com', 'quip.com', 'rhn.redhat.com', 'rooms.hp.com', 'securewebportal.net', 'sharpcast.com', 'silentcircle.com', 'silentcircle.net', 'snapchat.com', 'table14.fr', 'urlcloud.paloaltonetworks.com', 'vagrantcloud.com', 'verisign.com', 'wdcdn.net', 'wiredrive.com', 'whatsapp.net', 'whispersystems.org', 'wildfire.paloaltonetworks.com', 'anywhere2.telus.com', 'api.twitter.com', 'auth.gfx.ms', 'auth2.triongames.com', 'autoupdate.opera.com', 'bitbucket.org', 'discordapp.com', 'login.kaseya.net', 'myquickcloud.com', 'notify.mql5.com', 'updates.metaquotes.net', 'novafusion.ea.com', 'owner-api.teslamotors.com', 'portal.aws.amazon.com', 'secure.hp-ww.com', 'softwareupdate.vmware.com', 'sp.cwfservice.net', 'sso.8x8.com', 'vm.8x8.com', 'www.origin.com', 'sophos.com', 'sophosxl.com', 'sophosxl.net', 'sophosupd.com', 'sophosupd.net', 'mojave.net', 'alert.hitmanpro.com', 'tf-edr-message-upload-eu-central-1-prod-bucket.s3.amazonaws.com', 'tf-edr-message-upload-eu-west-1-prod-bucket.s3.amazonaws.com', 'tf-edr-message-upload-us-east-2-prod-bucket.s3.amazonaws.com', 'tf-edr-message-upload-us-west-2-prod-bucket.s3.amazonaws.com', 'mp.microsoft.com', 'wdcp.microsoft.com', 'definitionupdates.microsoft.com', 'go.microsoft.com', 'smartscreen.microsoft.com', 'wns.windows.com', 'logmeinrescue-enterprise.com', 'duosecurity.com', 'agentsmith.akamai-access.com', 'gotowebinar.com', 'ava.expertcity.com', 'cdn-apple.com', 'zoom.us', 'device.login.microsoftonline.com', 'secure.echosign.com']}}\n",
      "002: {'Name': 'Blocked URLs for Default Policy', 'Description': 'Edit this URL Group to specify sites that should be blocked by your default policy', 'IsDefault': 'No', 'URLlist': {'URL': 'www.example.com'}}\n",
      "003: {'Name': 'Local TLS exclusion list', 'Description': 'Used to hold domains added from the TLS troubleshooting tools. Sites in this group are excluded from TLS decryption by the built-in SSL/TLS exclusion rule.', 'IsDefault': 'Yes'}\n",
      "004: {'Name': 'TEST 1', 'Description': 'TEST 1', 'IsDefault': 'No', 'URLlist': {'URL': ['www.example.com', 'test.com', 'best.com']}}\n",
      "005: {'Name': 'TEST 2', 'Description': 'TEST 2', 'IsDefault': 'No', 'URLlist': {'URL': ['www.example.com', 'test.com', 'best.com']}}\n",
      "\n",
      "Current WebfilterURLGroups with partial match the TEST\n",
      "Code: 216 Text: Operation Successful.\n",
      "001: {'Name': 'TEST 1', 'Description': 'TEST 1', 'IsDefault': 'No', 'URLlist': {'URL': ['www.example.com', 'test.com', 'best.com']}}\n",
      "002: {'Name': 'TEST 2', 'Description': 'TEST 2', 'IsDefault': 'No', 'URLlist': {'URL': ['www.example.com', 'test.com', 'best.com']}}\n",
      "\n",
      "Current WebfilterURLGroups Delete all entity with partial match the TEST\n",
      "delete ::  {'data': [], 'code': '200', 'text': 'Configuration applied successfully.'}\n",
      "\n",
      "Current WebfilterURLGroups -> Code: 216 Text: Operation Successful.\n",
      "001: {'Name': 'Managed TLS exclusion list', 'Description': 'Domains known to be incompatible with TLS decryption. The content of this URL group is managed and may be changed by firmware updates.  Sites in this group are excluded from TLS decryption by the built-in SSL/TLS exclusion rule.', 'IsDefault': 'Yes', 'URLlist': {'URL': ['adobe.com', 'agni.lindenlab.com', 'atl.citrixonline.com', 'authentication.citrixonline.com', 'iad.citrixonline.com', 'citrixonlinecdn.com', 'las.citrixonline.com', 'live.citrixonline.com', 'ord.citrixonline.com', 'sjc.citrixonline.com', 'fra.citrixonline.com', 'ams.citrixonline.com', 'servers.citrixonline.com', 'play.google.com', 'tpncs.simplifymedia.net', 'tpnxmpp.simplifymedia.net', 'gotomeeting.com', 'icloud.com', 'apple.com', 'gsa.apple.com', 'gsas.apple.com', 'itunes.apple.com', 'ess.apple.com', 'gc.apple.com', 'appstore.com', 'courier.sandbox.push.apple.com', 'swscan.apple.com', 'livemeeting.com', 'logmein.com', 'secure.logmeinrescue.com', 'mozilla.org', 'packetix.net', 'pgiconnect.com', 'softether.com', 'telex.cc', 'vedivi.com', 'vudu.com', 'adobelogin.com', 'android.com', 'bitdefender.com', 'bitdefender.net', 'books.google.com', 'drive.google.com', 'cloudmosa.com', 'crsi.symantec.com', 'central.avsi.symantec.com', 'services-prod.symantec.com', 'shasta-mr-healthy.symantec.com', 'login.norton.com', 'nds.norton.com', 'stats.norton.com', 'zpi.nortonzone.com', 'central.nrsi.symantec.com', 'ent-shasta-mr-clean.symantec.com', 'ent-shasta-rrs.symantec.com', 'vip.symantec.com', 'tses.symantec.com', 'www.nortonzone.com', 'dochub.com', 'dropbox.com', 'dropcam.com', 'fedoraproject.org', 'informaticacloud.com', 'informaticaondemand.com', 'infra.lync.com', 'activation.sls.microsoft.com', 'messenger.live.com', 'lr.live.net', 'account.live.com', 'accounts.mesh.com', 'update.microsoft.com', 'storage.mesh.com', 'sls.microsoft.com', 'windowsupdate.microsoft.com', 'windowsupdate.com', 'phonefactor.com', 'logentries.com', 'mzstatic.com', 'onepagecrm.com', 'osdimg.com', 'pathviewcloud.com', 'periscope.tv', 'postlm.com', 'postls.com', 'two.postls.com', 'quip.com', 'rhn.redhat.com', 'rooms.hp.com', 'securewebportal.net', 'sharpcast.com', 'silentcircle.com', 'silentcircle.net', 'snapchat.com', 'table14.fr', 'urlcloud.paloaltonetworks.com', 'vagrantcloud.com', 'verisign.com', 'wdcdn.net', 'wiredrive.com', 'whatsapp.net', 'whispersystems.org', 'wildfire.paloaltonetworks.com', 'anywhere2.telus.com', 'api.twitter.com', 'auth.gfx.ms', 'auth2.triongames.com', 'autoupdate.opera.com', 'bitbucket.org', 'discordapp.com', 'login.kaseya.net', 'myquickcloud.com', 'notify.mql5.com', 'updates.metaquotes.net', 'novafusion.ea.com', 'owner-api.teslamotors.com', 'portal.aws.amazon.com', 'secure.hp-ww.com', 'softwareupdate.vmware.com', 'sp.cwfservice.net', 'sso.8x8.com', 'vm.8x8.com', 'www.origin.com', 'sophos.com', 'sophosxl.com', 'sophosxl.net', 'sophosupd.com', 'sophosupd.net', 'mojave.net', 'alert.hitmanpro.com', 'tf-edr-message-upload-eu-central-1-prod-bucket.s3.amazonaws.com', 'tf-edr-message-upload-eu-west-1-prod-bucket.s3.amazonaws.com', 'tf-edr-message-upload-us-east-2-prod-bucket.s3.amazonaws.com', 'tf-edr-message-upload-us-west-2-prod-bucket.s3.amazonaws.com', 'mp.microsoft.com', 'wdcp.microsoft.com', 'definitionupdates.microsoft.com', 'go.microsoft.com', 'smartscreen.microsoft.com', 'wns.windows.com', 'logmeinrescue-enterprise.com', 'duosecurity.com', 'agentsmith.akamai-access.com', 'gotowebinar.com', 'ava.expertcity.com', 'cdn-apple.com', 'zoom.us', 'device.login.microsoftonline.com', 'secure.echosign.com']}}\n",
      "002: {'Name': 'Blocked URLs for Default Policy', 'Description': 'Edit this URL Group to specify sites that should be blocked by your default policy', 'IsDefault': 'No', 'URLlist': {'URL': 'www.example.com'}}\n",
      "003: {'Name': 'Local TLS exclusion list', 'Description': 'Used to hold domains added from the TLS troubleshooting tools. Sites in this group are excluded from TLS decryption by the built-in SSL/TLS exclusion rule.', 'IsDefault': 'Yes'}\n",
      "\n",
      "Delete again ::  {'data': [], 'code': '500', 'text': 'Operation could not be performed on Entity.'}\n"
     ]
    }
   ],
   "source": [
    "entity_type = \"WebFilterURLGroup\"\n",
    "entity_name = \"TEST\"\n",
    "\n",
    "print(\"create :: \", firewall.create(entity_type, entity_data_1))\n",
    "print(\"create :: \", firewall.create(entity_type, entity_data_2))\n",
    "\n",
    "response = firewall.read(entity_type)\n",
    "print(\"\\nCurrent WebfilterURLGroups\", end=\"\")\n",
    "print(\" -> Code:\", response[\"code\"], \"Text:\", response[\"text\"])\n",
    "for index, item in enumerate(response[\"data\"], start=1):\n",
    "    print(f\"{index:03}: {item}\")\n",
    "\n",
    "print(f\"\\nCurrent WebfilterURLGroups with partial match the {entity_name}\")\n",
    "response = firewall.read(entity_type, entity_name, LIKE)\n",
    "print(\"Code:\", response[\"code\"], \"Text:\", response[\"text\"])\n",
    "for index, item in enumerate(response[\"data\"], start=1):\n",
    "    print(f\"{index:03}: {item}\")\n",
    "\n",
    "print(f\"\\nCurrent WebfilterURLGroups Delete all entity with partial match the {entity_name}\")\n",
    "print(\"delete :: \", firewall.delete(entity_type, entity_name, LIKE))  # Delete all entity with partial match the entity_name\n",
    "\n",
    "response = firewall.read(entity_type)\n",
    "print(\"\\nCurrent WebfilterURLGroups\", end=\"\")\n",
    "print(\" -> Code:\", response[\"code\"], \"Text:\", response[\"text\"])\n",
    "for index, item in enumerate(response[\"data\"], start=1):\n",
    "    print(f\"{index:03}: {item}\")\n",
    "\n",
    "print(\"\\nDelete again :: \", firewall.delete(entity_type, entity_name, LIKE))"
   ]
  },
  {
   "cell_type": "code",
   "execution_count": 16,
   "metadata": {},
   "outputs": [
    {
     "name": "stdout",
     "output_type": "stream",
     "text": [
      "\n",
      "READ :: IPHost entity with Internet in the 'Name'\n",
      "Code: 216 Text: Operation Successful.\n",
      "001: {'Name': 'Internet IPv4 (1-9)', 'IPFamily': 'IPv4', 'HostType': 'IPRange', 'HostGroupList': {'HostGroup': 'Internet IPv4 group'}, 'StartIPAddress': '1.0.0.0', 'EndIPAddress': '9.255.255.255'}\n",
      "002: {'Name': 'Internet IPv4 (11-126)', 'IPFamily': 'IPv4', 'HostType': 'IPRange', 'HostGroupList': {'HostGroup': 'Internet IPv4 group'}, 'StartIPAddress': '11.0.0.0', 'EndIPAddress': '126.255.255.255'}\n",
      "003: {'Name': 'Internet IPv4 (129-169)', 'IPFamily': 'IPv4', 'HostType': 'IPRange', 'HostGroupList': {'HostGroup': 'Internet IPv4 group'}, 'StartIPAddress': '128.0.0.0', 'EndIPAddress': '169.253.255.255'}\n",
      "004: {'Name': 'Internet IPv4 (169-172)', 'IPFamily': 'IPv4', 'HostType': 'IPRange', 'HostGroupList': {'HostGroup': 'Internet IPv4 group'}, 'StartIPAddress': '169.255.0.0', 'EndIPAddress': '172.15.255.255'}\n",
      "005: {'Name': 'Internet IPv4 (172-191)', 'IPFamily': 'IPv4', 'HostType': 'IPRange', 'HostGroupList': {'HostGroup': 'Internet IPv4 group'}, 'StartIPAddress': '172.32.0.0', 'EndIPAddress': '191.0.1.255'}\n",
      "006: {'Name': 'Internet IPv4 (191-191.1)', 'IPFamily': 'IPv4', 'HostType': 'IPRange', 'HostGroupList': {'HostGroup': 'Internet IPv4 group'}, 'StartIPAddress': '191.1.0.0', 'EndIPAddress': '191.255.255.255'}\n",
      "007: {'Name': 'Internet IPv4 (192-192.0)', 'IPFamily': 'IPv4', 'HostType': 'IPRange', 'HostGroupList': {'HostGroup': 'Internet IPv4 group'}, 'StartIPAddress': '192.0.1.1', 'EndIPAddress': '192.0.1.255'}\n",
      "008: {'Name': 'Internet IPv4 (192.169-198.17)', 'IPFamily': 'IPv4', 'HostType': 'IPRange', 'HostGroupList': {'HostGroup': 'Internet IPv4 group'}, 'StartIPAddress': '192.169.0.0', 'EndIPAddress': '198.17.255.255'}\n",
      "009: {'Name': 'Internet IPv4 (198.20-198.51)', 'IPFamily': 'IPv4', 'HostType': 'IPRange', 'HostGroupList': {'HostGroup': 'Internet IPv4 group'}, 'StartIPAddress': '198.20.0.0', 'EndIPAddress': '198.51.99.255'}\n",
      "010: {'Name': 'Internet IPv4 (198.51-203.0)', 'IPFamily': 'IPv4', 'HostType': 'IPRange', 'HostGroupList': {'HostGroup': 'Internet IPv4 group'}, 'StartIPAddress': '198.51.101.0', 'EndIPAddress': '203.0.112.255'}\n",
      "011: {'Name': 'Internet IPv4 (203.0-223)', 'IPFamily': 'IPv4', 'HostType': 'IPRange', 'HostGroupList': {'HostGroup': 'Internet IPv4 group'}, 'StartIPAddress': '203.0.114.1', 'EndIPAddress': '223.255.255.255'}\n",
      "012: {'Name': 'Internet IPv4 (192.88-192.167)', 'IPFamily': 'IPv4', 'HostType': 'IPRange', 'HostGroupList': {'HostGroup': 'Internet IPv4 group'}, 'StartIPAddress': '192.88.100.0', 'EndIPAddress': '192.167.255.255'}\n",
      "013: {'Name': 'Internet IPv4 (192-192.88)', 'IPFamily': 'IPv4', 'HostType': 'IPRange', 'HostGroupList': {'HostGroup': 'Internet IPv4 group'}, 'StartIPAddress': '192.0.3.0', 'EndIPAddress': '192.88.98.255'}\n"
     ]
    }
   ],
   "source": [
    "# Read all IPHost entities with entity_name (Internet) in the Name\n",
    "#\n",
    "entity_type = \"IPHost\"\n",
    "entity_name = \"Internet\"\n",
    "\n",
    "print(f\"\\nREAD :: {entity_type} entity with {entity_name} in the 'Name'\")\n",
    "response = firewall.read(entity_type, entity_name, LIKE)\n",
    "print(\"Code:\", response[\"code\"], \"Text:\", response[\"text\"])\n",
    "for index, item in enumerate(response[\"data\"], start=1):\n",
    "    print(f\"{index:03}: {item}\")"
   ]
  },
  {
   "cell_type": "code",
   "execution_count": null,
   "metadata": {},
   "outputs": [],
   "source": [
    "for item in open(\"entity_type.txt\", \"r\"):\n",
    "    print(\"\\n\\n\", item, end=\"\")\n",
    "    if item.strip() not in [\"Certificate\", \"CertificateAuthority\", \"CRL\", \"FormTemplate\", \"FourEyeAuthenticationDeAnonymize\", \"IviewCustomLogo\"]:\n",
    "        response = firewall.read(item.strip())\n",
    "        print(\"Code:\", response[\"code\"], \"Text:\", response[\"text\"])\n",
    "\n",
    "        for index, item in enumerate(response[\"data\"], start=1):\n",
    "            print(f\"{index:02}: {item}\")"
   ]
  }
 ],
 "metadata": {
  "kernelspec": {
   "display_name": "Python 3",
   "language": "python",
   "name": "python3"
  },
  "language_info": {
   "codemirror_mode": {
    "name": "ipython",
    "version": 3
   },
   "file_extension": ".py",
   "mimetype": "text/x-python",
   "name": "python",
   "nbconvert_exporter": "python",
   "pygments_lexer": "ipython3",
   "version": "3.12.2"
  }
 },
 "nbformat": 4,
 "nbformat_minor": 2
}
