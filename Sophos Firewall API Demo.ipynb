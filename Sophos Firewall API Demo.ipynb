{
 "cells": [
  {
   "cell_type": "code",
   "execution_count": null,
   "metadata": {},
   "outputs": [],
   "source": [
    "from sophos_firewall_api import Firewall, EQ, NOT, LIKE\n",
    "import json\n",
    "\n",
    "# Firewall Credentials\n",
    "# JSON File\n",
    "# {\n",
    "#     \"firewall_ip\": \"<FIREWALL_IP_ADDRESS>\",\n",
    "#     \"username\": \"<USER_NAME>\",\n",
    "#     \"port\" : \"<FIREWALL_PORT>\"\n",
    "#     \"password\": \"<PASSWORD>\",\n",
    "#      \"certificate_verify\": <true|false>,\n",
    "#     \"password_encrypted\": <true|false>\n",
    "# }\n",
    "\n",
    "firewall_info = json.load(open(\"Credentials\\\\firewall_access.json\"))\n",
    "username = firewall_info[\"username\"]\n",
    "password = firewall_info[\"password\"]\n",
    "firewall_ip = firewall_info[\"firewall_ip\"]\n",
    "port = firewall_info[\"port\"]\n",
    "certificate_verify = firewall_info[\"certificate_verify\"]\n",
    "password_encrypted = firewall_info[\"password_encrypted\"]\n",
    "\n",
    "firewall = Firewall(username, password, firewall_ip, port, certificate_verify=certificate_verify, password_encrypted=password_encrypted)"
   ]
  },
  {
   "cell_type": "code",
   "execution_count": null,
   "metadata": {},
   "outputs": [],
   "source": [
    "print(\"CREATE :: \", firewall.create(\"IPHost\", {\"Name\": \"TEST 1\", \"IPFamily\": \"IPv4\", \"HostType\": \"IP\", \"IPAddress\": \"172.16.17.100\"}))\n",
    "print(\"CREATE :: \", firewall.create(\"IPHost\", {\"Name\": \"TEST 2\", \"IPFamily\": \"IPv4\", \"HostType\": \"IP\", \"IPAddress\": \"172.16.17.100\"}))\n",
    "print(\"CREATE :: \", firewall.create(\"IPHost\", {\"Name\": \"TEST 3\", \"IPFamily\": \"IPv4\", \"HostType\": \"IP\", \"IPAddress\": \"172.16.17.100\"}))\n",
    "print(\"CREATE :: \", firewall.create(\"IPHost\", {\"Name\": \"TEST 4\", \"IPFamily\": \"IPv4\", \"HostType\": \"IP\", \"IPAddress\": \"172.16.17.100\"}))\n",
    "\n",
    "print(\"\\nREAD :: \")\n",
    "response = firewall.read(\"IPHost\", \"TEST\", LIKE)\n",
    "print(\"Code:\", response[\"code\"], \"Text:\", response[\"text\"])\n",
    "for index, item in enumerate(response[\"data\"], start=1):\n",
    "    print(f\"{index:03}: {item}\")\n",
    "\n",
    "print(\"\\nUPDATE :: \", firewall.update(\"IPHost\", {\"Name\": \"TEST 1\", \"IPFamily\": \"IPv4\", \"HostType\": \"IP\", \"IPAddress\": \"172.16.17.101\"}))\n",
    "print(\"UPDATE :: \", firewall.update(\"IPHost\", {\"Name\": \"TEST 2\", \"IPFamily\": \"IPv4\", \"HostType\": \"IP\", \"IPAddress\": \"172.16.17.102\"}))\n",
    "print(\"UPDATE :: \", firewall.update(\"IPHost\", {\"Name\": \"TEST 3\", \"IPFamily\": \"IPv4\", \"HostType\": \"IP\", \"IPAddress\": \"172.16.17.103\"}))\n",
    "print(\"UPDATE :: \", firewall.update(\"IPHost\", {\"Name\": \"TEST 4\", \"IPFamily\": \"IPv4\", \"HostType\": \"IP\", \"IPAddress\": \"172.16.17.104\"}))\n",
    "\n",
    "print(\"\\nREAD :: \")\n",
    "response = firewall.read(\"IPHost\", \"TEST\", LIKE)\n",
    "print(\"Code:\", response[\"code\"], \"Text:\", response[\"text\"])\n",
    "for index, item in enumerate(response[\"data\"], start=1):\n",
    "    print(f\"{index:03}: {item}\")\n",
    "\n",
    "print(\"\\nDELETE :: \", firewall.delete(\"IPHost\", \"TEST 1\"))\n",
    "print(\"DELETE :: \", firewall.delete(\"IPHost\", \"TEST 2\"))\n",
    "\n",
    "print(\"\\nREAD :: \")\n",
    "response = firewall.read(\"IPHost\", \"TEST\", LIKE)\n",
    "print(\"Code:\", response[\"code\"], \"Text:\", response[\"text\"])\n",
    "for index, item in enumerate(response[\"data\"], start=1):\n",
    "    print(f\"{index:03}: {item}\")\n",
    "\n",
    "print(\"\\nDELETE :: \", firewall.delete(\"IPHost\", \"TEST\", LIKE))\n",
    "\n",
    "print(\"\\nREAD :: \")\n",
    "response = firewall.read(\"IPHost\", \"TEST\", LIKE)\n",
    "print(\"Code:\", response[\"code\"], \"Text:\", response[\"text\"])\n",
    "for index, item in enumerate(response[\"data\"], start=1):\n",
    "    print(f\"{index:03}: {item}\")\n",
    "\n",
    "\n",
    "print(\"\\nREAD :: FirewallRule\")\n",
    "response = firewall.read(\"FirewallRule\")\n",
    "print(\"Code:\", response[\"code\"], \"Text:\", response[\"text\"])\n",
    "for index, item in enumerate(response[\"data\"], start=1):\n",
    "    print(f\"{index:03}: {item}\")"
   ]
  },
  {
   "cell_type": "raw",
   "metadata": {},
   "source": [
    "# Initiate firewall object with DEFAULT settings\n",
    "# port=\"4444\"\n",
    "# password_encrypted = False\n",
    "# verify=False\n",
    "\n",
    "from sophos_firewall_api import Firewall, EQ, NOT, LIKE\n",
    "\n",
    "firewall = Firewall(\"<<username>>\", \"<<password>>\", \"<<firewall_ip>>\")\n",
    "\n",
    "firewall = Firewall(\"admin\", \"Pa$$w0rd\", \"172.16.17.30\")"
   ]
  },
  {
   "cell_type": "code",
   "execution_count": null,
   "metadata": {},
   "outputs": [],
   "source": [
    "# FirewallRUle will be filtered for NAT string in Name\n",
    "entity_type = \"FirewallRule\"\n",
    "entity_name = \"AZURE\"\n",
    "\n",
    "print(f\"\\nREAD :: {entity_type} entity_type with {entity_name} in the 'Name' \")\n",
    "response = firewall.read(entity_type, entity_name, LIKE)\n",
    "print(\"Code:\", response[\"code\"], \"Text:\", response[\"text\"])\n",
    "for index, item in enumerate(response[\"data\"], start=1):\n",
    "    print(f\"{index:03}: {item}\")"
   ]
  },
  {
   "cell_type": "code",
   "execution_count": null,
   "metadata": {},
   "outputs": [],
   "source": [
    "entity_type = \"FirewallRule\"\n",
    "\n",
    "Data = {\n",
    "    \"Name\": \"NEW Firewall Rule\",\n",
    "    \"Description\": \"NEW Firewall Rule Created from API\",\n",
    "    \"IPFamily\": \"IPv4\",\n",
    "    \"Status\": \"Enable\",\n",
    "    \"Position\": \"Top\",\n",
    "    \"PolicyType\": \"Network\",\n",
    "    # \"After\": {\"Name\": \"NEW Rule\"}, # depends on \"Position\"\n",
    "    \"NetworkPolicy\": {\n",
    "        \"Action\": \"Accept\",\n",
    "        \"LogTraffic\": \"Enable\",\n",
    "        #     \"SkipLocalDestined\": \"Disable\",\n",
    "        \"SourceZones\": {\"Zone\": [\"LAN\", \"DMZ\"]},\n",
    "        \"DestinationZones\": {\"Zone\": \"WAN\"},\n",
    "        \"SourceNetworks\": {\"Network\": [\"192.168.30.0/24\", \"192.168.10.0/24\"]},\n",
    "        # \"DestinationNetworks\": {\"Network\": [\"192.168.30.0/24\", \"192.168.10.0/24\"]},\n",
    "        #     \"Schedule\": \"All The Time\",\n",
    "        #     \"Services\": {\"Service\": \"RDP\"},   # Do not include for \"Any service\"\n",
    "        #     \"DestinationNetworks\": {\"Network\": \"#Port2:1\"},\n",
    "        #     \"DSCPMarking\": \"0\",\n",
    "        #     \"WebFilter\": \"None\",\n",
    "        #     \"WebCategoryBaseQoSPolicy\": None,\n",
    "        #     \"BlockQuickQuic\": \"Disable\",\n",
    "        #     \"ScanVirus\": \"Disable\",\n",
    "        #     \"ZeroDayProtection\": \"Disable\",\n",
    "        #     \"ProxyMode\": \"Disable\",\n",
    "        #     \"DecryptHTTPS\": \"Disable\",\n",
    "        #     \"ApplicationControl\": \"None\",\n",
    "        #     \"ApplicationBaseQoSPolicy\": None,\n",
    "        #     \"IntrusionPrevention\": \"None\",\n",
    "        #     \"TrafficShappingPolicy\": \"None\",\n",
    "        #     \"ScanSMTP\": \"Enable\",\n",
    "        #     \"ScanSMTPS\": \"Enable\",\n",
    "        #     \"ScanIMAP\": \"Enable\",\n",
    "        #     \"ScanIMAPS\": \"Enable\",\n",
    "        #     \"ScanPOP3\": \"Enable\",\n",
    "        #     \"ScanPOP3S\": \"Enable\",\n",
    "        #     \"ScanFTP\": \"Enable\",\n",
    "        #     \"SourceSecurityHeartbeat\": \"Disable\",\n",
    "        #     \"MinimumSourceHBPermitted\": \"No Restriction\",\n",
    "        #     \"DestSecurityHeartbeat\": \"Disable\",\n",
    "        #     \"MinimumDestinationHBPermitted\": \"No Restriction\",\n",
    "    },\n",
    "}"
   ]
  },
  {
   "cell_type": "code",
   "execution_count": null,
   "metadata": {},
   "outputs": [],
   "source": [
    "print(\"create :: \", firewall.create(entity_type, Data))"
   ]
  },
  {
   "cell_type": "code",
   "execution_count": null,
   "metadata": {},
   "outputs": [],
   "source": [
    "print(\"read :: \", firewall.read(entity_type, Data[\"Name\"]))"
   ]
  },
  {
   "cell_type": "code",
   "execution_count": null,
   "metadata": {},
   "outputs": [],
   "source": [
    "print(\"update :: \", firewall.update(entity_type, Data))"
   ]
  },
  {
   "cell_type": "code",
   "execution_count": null,
   "metadata": {},
   "outputs": [],
   "source": [
    "print(\"delete :: \", firewall.delete(entity_type, Data[\"Name\"]))"
   ]
  },
  {
   "cell_type": "code",
   "execution_count": null,
   "metadata": {},
   "outputs": [],
   "source": [
    "#\n",
    "# Read all FirewallRules\n",
    "#\n",
    "entity_type = \"FirewallRule\"\n",
    "\n",
    "print(f\"\\nREAD :: {entity_type}\")\n",
    "response = firewall.read(entity_type)\n",
    "print(\"Code:\", response[\"code\"], \"Text:\", response[\"text\"])\n",
    "for index, item in enumerate(response[\"data\"], start=1):\n",
    "    print(f\"{index:03}: {item}\")"
   ]
  },
  {
   "cell_type": "code",
   "execution_count": null,
   "metadata": {},
   "outputs": [],
   "source": [
    "# 'DNAT' in the 'Name' of the 'FirewallRule'\n",
    "#\n",
    "response = firewall.read(entity_type,\"DNAT\",LIKE)\n",
    "print(\"Code:\", response[\"code\"], \"Text:\", response[\"text\"])\n",
    "for index, item in enumerate(response[\"data\"], start=1):\n",
    "    print(f\"{index:03}: {item}\")"
   ]
  },
  {
   "cell_type": "code",
   "execution_count": null,
   "metadata": {},
   "outputs": [],
   "source": [
    "# WebFilterURLGroup\n",
    "entity_type = \"WebFilterURLGroup\"\n",
    "\n",
    "# WebFilterURLGroup Template. Use read(entity_type) method to obtain\n",
    "entity_data_1 = {\n",
    "    \"Name\": \"TEST 1\",\n",
    "    \"Description\": \"TEST 1\",\n",
    "    # \"IsDefault\": \"No\",\n",
    "    \"URLlist\": {\"URL\": [\"www.example.com\", \"test.com\", \"best.com\"]},\n",
    "}\n",
    "\n",
    "\n",
    "entity_data_2 = {\n",
    "    \"Name\": \"TEST 2\",\n",
    "    \"Description\": \"TEST 2\",\n",
    "    # \"IsDefault\": \"No\",\n",
    "    \"URLlist\": {\"URL\": [\"www.example.com\", \"test.com\", \"best.com\"]},\n",
    "}"
   ]
  },
  {
   "cell_type": "code",
   "execution_count": null,
   "metadata": {},
   "outputs": [],
   "source": [
    "response = firewall.read(entity_type)\n",
    "\n",
    "print(\"Current WebfilterURLGroups\")\n",
    "print(\"Code:\", response[\"code\"], \"Text:\", response[\"text\"])\n",
    "for index, item in enumerate(response[\"data\"], start=1):\n",
    "    print(f\"{index:03}: {item}\")"
   ]
  },
  {
   "cell_type": "code",
   "execution_count": null,
   "metadata": {},
   "outputs": [],
   "source": [
    "entity_type = \"WebFilterURLGroup\"\n",
    "entity_name = \"TEST\"\n",
    "\n",
    "print(\"create :: \", firewall.create(entity_type, entity_data_1))\n",
    "print(\"create :: \", firewall.create(entity_type, entity_data_2))\n",
    "\n",
    "response = firewall.read(entity_type)\n",
    "print(\"\\nCurrent WebfilterURLGroups\", end=\"\")\n",
    "print(\" -> Code:\", response[\"code\"], \"Text:\", response[\"text\"])\n",
    "for index, item in enumerate(response[\"data\"], start=1):\n",
    "    print(f\"{index:03}: {item}\")\n",
    "\n",
    "print(f\"\\nCurrent WebfilterURLGroups with partial match the {entity_name}\")\n",
    "response = firewall.read(entity_type, entity_name, LIKE)\n",
    "print(\"Code:\", response[\"code\"], \"Text:\", response[\"text\"])\n",
    "for index, item in enumerate(response[\"data\"], start=1):\n",
    "    print(f\"{index:03}: {item}\")\n",
    "\n",
    "print(f\"\\nCurrent WebfilterURLGroups Delete all entity with partial match the {entity_name}\")\n",
    "print(\"delete :: \", firewall.delete(entity_type, entity_name, LIKE))  # Delete all entity with partial match the entity_name\n",
    "\n",
    "response = firewall.read(entity_type)\n",
    "print(\"\\nCurrent WebfilterURLGroups\", end=\"\")\n",
    "print(\" -> Code:\", response[\"code\"], \"Text:\", response[\"text\"])\n",
    "for index, item in enumerate(response[\"data\"], start=1):\n",
    "    print(f\"{index:03}: {item}\")\n",
    "\n",
    "print(\"\\nDelete again :: \", firewall.delete(entity_type, entity_name, LIKE))"
   ]
  },
  {
   "cell_type": "code",
   "execution_count": null,
   "metadata": {},
   "outputs": [],
   "source": [
    "#\n",
    "# Read all IPHost entities with entity_name (Internet) in the Name\n",
    "#\n",
    "entity_type = \"IPHost\"\n",
    "entity_name = \"Internet\"\n",
    "\n",
    "print(f\"\\nREAD :: {entity_type} entity with {entity_name} in the 'Name'\")\n",
    "response = firewall.read(entity_type, entity_name, LIKE)\n",
    "print(\"Code:\", response[\"code\"], \"Text:\", response[\"text\"])\n",
    "for index, item in enumerate(response[\"data\"], start=1):\n",
    "    print(f\"{index:03}: {item}\")"
   ]
  },
  {
   "cell_type": "code",
   "execution_count": null,
   "metadata": {},
   "outputs": [],
   "source": [
    "for item in open(\"entity_type.txt\", \"r\"):\n",
    "    print(\"\\n\\n\", item, end=\"\")\n",
    "    if item.strip() not in [\"Certificate\", \"CertificateAuthority\", \"CRL\", \"FormTemplate\", \"FourEyeAuthenticationDeAnonymize\", \"IviewCustomLogo\"]:\n",
    "        response = firewall.read(item.strip())\n",
    "        print(\"Code:\", response[\"code\"], \"Text:\", response[\"text\"])\n",
    "\n",
    "        for index, item in enumerate(response[\"data\"], start=1):\n",
    "            print(f\"{index:02}: {item}\")"
   ]
  }
 ],
 "metadata": {
  "kernelspec": {
   "display_name": "Python 3",
   "language": "python",
   "name": "python3"
  },
  "language_info": {
   "codemirror_mode": {
    "name": "ipython",
    "version": 3
   },
   "file_extension": ".py",
   "mimetype": "text/x-python",
   "name": "python",
   "nbconvert_exporter": "python",
   "pygments_lexer": "ipython3",
   "version": "3.12.2"
  }
 },
 "nbformat": 4,
 "nbformat_minor": 2
}
