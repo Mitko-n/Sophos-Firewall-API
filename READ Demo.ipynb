{
 "cells": [
  {
   "cell_type": "code",
   "execution_count": null,
   "metadata": {},
   "outputs": [],
   "source": [
    "from sophos_firewall_api import Firewall, EQ, NOT, LIKE\n",
    "import json\n",
    "\n",
    "# Firewall Credentials\n",
    "# JSON File\n",
    "# {\n",
    "#     \"firewall_ip\": \"<FIREWALL_IP_ADDRESS>\",\n",
    "#     \"username\": \"<USER_NAME>\",\n",
    "#     \"port\" : \"<FIREWALL_PORT>\"\n",
    "#     \"password\": \"<PASSWORD>\",\n",
    "#      \"certificate_verify\": <true|false>,\n",
    "#     \"password_encrypted\": <true|false>\n",
    "# }\n",
    "\n",
    "firewall_info = json.load(open(\"Credentials\\\\firewall_access.json\"))\n",
    "username = firewall_info[\"username\"]\n",
    "password = firewall_info[\"password\"]\n",
    "firewall_ip = firewall_info[\"firewall_ip\"]\n",
    "port = firewall_info[\"port\"]\n",
    "certificate_verify = firewall_info[\"certificate_verify\"]\n",
    "password_encrypted = firewall_info[\"password_encrypted\"]\n",
    "\n",
    "firewall = Firewall(username, password, firewall_ip, port, certificate_verify=certificate_verify, password_encrypted=password_encrypted)"
   ]
  },
  {
   "cell_type": "code",
   "execution_count": null,
   "metadata": {},
   "outputs": [],
   "source": [
    "entity_type = \"IPHost\"\n",
    "entity_name = \"Internet\"\n",
    "\n",
    "print(f\"\\nREAD :: {entity_type} entity with {entity_name} in the 'Name'\")\n",
    "response = firewall.read(entity_type, entity_name)    # LIKE\n",
    "print(\"Code:\", response[\"code\"], \"Text:\", response[\"text\"])\n",
    "for index, item in enumerate(response[\"data\"], start=1):\n",
    "    print(f\"{index:03}: {item}\")"
   ]
  },
  {
   "cell_type": "code",
   "execution_count": null,
   "metadata": {},
   "outputs": [],
   "source": [
    "entity_type = \"IPHost\"\n",
    "\n",
    "# response = firewall.read(entity, \"Internet\", LIKE)\n",
    "response = firewall.read(entity_type, \"RW\")\n",
    "\n",
    "print(\"Code:\", response[\"code\"], \"Text:\", response[\"text\"])\n",
    "\n",
    "for index, item in enumerate(response[\"data\"], start=1):\n",
    "    print(f\"{index:002}: {item}\")"
   ]
  },
  {
   "cell_type": "code",
   "execution_count": null,
   "metadata": {},
   "outputs": [],
   "source": [
    "for item in open(\"Firewall Entities.csv\", \"r\"):\n",
    "    print(\"\\n\\n\", item, end=\"\")\n",
    "    response = firewall.read(item.strip())\n",
    "    print(\"Code:\", response[\"code\"], \"Text:\", response[\"text\"])\n",
    "\n",
    "    for index, item in enumerate(response[\"data\"], start=1):\n",
    "        print(f\"{index:02}: {item}\")"
   ]
  },
  {
   "cell_type": "code",
   "execution_count": null,
   "metadata": {},
   "outputs": [],
   "source": [
    "entity_type = \"IPHostGroup\"\n",
    "\n",
    "response = firewall.read(entity_type)\n",
    "\n",
    "print(\"Code:\", response[\"code\"], \"Text:\", response[\"text\"])\n",
    "\n",
    "for index, item in enumerate(response[\"data\"], start=1):\n",
    "    print(f\"{index:002}: {item}\")"
   ]
  },
  {
   "cell_type": "code",
   "execution_count": null,
   "metadata": {},
   "outputs": [],
   "source": [
    "entity_type = \"PatternDownload\"\n",
    "\n",
    "response = firewall.read(entity_type)\n",
    "\n",
    "print(\"Code:\", response[\"code\"], \"Text:\", response[\"text\"])\n",
    "\n",
    "print(json.dumps(response[\"data\"], indent=4))"
   ]
  },
  {
   "cell_type": "code",
   "execution_count": null,
   "metadata": {},
   "outputs": [],
   "source": [
    "# CREATE ENTITY with entity_type \"IPHost\" and entity_data for \"HostType\" Network\n",
    "\n",
    "entity_type = \"IPHost\"\n",
    "entity_data = {\n",
    "    \"Name\": \"192.168.96.0/24\",\n",
    "    \"IPFamily\": \"IPv4\",\n",
    "    \"HostType\": \"Network\",\n",
    "    \"IPAddress\": \"192.168.96.0\",\n",
    "    \"Subnet\": \"255.255.255.0\",\n",
    "}\n",
    "\n",
    "firewall.create(entity_type, entity_data)"
   ]
  },
  {
   "cell_type": "code",
   "execution_count": null,
   "metadata": {},
   "outputs": [],
   "source": [
    "# READ settings for ENTITY with entity_type\n",
    "\n",
    "entity_type = \"LocalServiceACL\"\n",
    "\n",
    "response = firewall.read(entity_type)\n",
    "print(\"Code:\", response[\"code\"], \"Text:\", response[\"text\"])\n",
    "\n",
    "# List/Dump single response\n",
    "print(json.dumps(response[\"data\"], indent=4))\n",
    "\n",
    "# List/Dump diction of responses\n",
    "for index, item in enumerate(response[\"data\"], start=1):\n",
    "    print(f\"{index:002}: {item}\")"
   ]
  }
 ],
 "metadata": {
  "kernelspec": {
   "display_name": "Python 3",
   "language": "python",
   "name": "python3"
  },
  "language_info": {
   "codemirror_mode": {
    "name": "ipython",
    "version": 3
   },
   "file_extension": ".py",
   "mimetype": "text/x-python",
   "name": "python",
   "nbconvert_exporter": "python",
   "pygments_lexer": "ipython3",
   "version": "3.12.0"
  },
  "orig_nbformat": 4
 },
 "nbformat": 4,
 "nbformat_minor": 2
}
